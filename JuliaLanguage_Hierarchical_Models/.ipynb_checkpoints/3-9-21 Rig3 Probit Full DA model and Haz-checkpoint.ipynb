{
 "cells": [
  {
   "cell_type": "code",
   "execution_count": 1,
   "metadata": {},
   "outputs": [
    {
     "name": "stderr",
     "output_type": "stream",
     "text": [
      "┌ Info: Precompiling MAT [23992714-dd62-5051-b70f-ba57cb901cac]\n",
      "└ @ Base loading.jl:1278\n"
     ]
    },
    {
     "name": "stdout",
     "output_type": "stream",
     "text": [
      "Refreshed (2021-03-09_0129) GLMNet_tools.jl auto_pull_matlabdatasets.jl cluster_modules.jl feedback_modules.jl file_modules.jl hazard_modules.jl v 11:37\n",
      "math_modules.jl modeling_tools.jl plotting_tools.jl probabilistic_modules.jl "
     ]
    }
   ],
   "source": [
    "cd(\"C:\\\\Users\\\\AssadLab\\\\Documents\\\\GitHub\\\\HSOManalysisPackages\\\\JuliaLanguage_Hierarchical_Models\")\n",
    "include(join([pwd(), \"\\\\function_library\\\\file_modules.jl\"]))\n",
    "refresh_tools(\"function_library\")"
   ]
  },
  {
   "cell_type": "code",
   "execution_count": 2,
   "metadata": {},
   "outputs": [],
   "source": [
    "cd(\"N:\\\\Assad Lab\\\\allison\\\\Collated Analyses\\\\JULIA_CSVs\\\\All_SNc_nosplitsesh\")"
   ]
  },
  {
   "cell_type": "code",
   "execution_count": 3,
   "metadata": {},
   "outputs": [
    {
     "data": {
      "text/plain": [
       "39:43"
      ]
     },
     "execution_count": 3,
     "metadata": {},
     "output_type": "execute_result"
    }
   ],
   "source": [
    "B1_idx = 1:5\n",
    "B2_idx = 6:13\n",
    "B3_idx = 14:24\n",
    "B5_idx = 75:80\n",
    "B6_idx = 25:30\n",
    "H3_idx = 44:51\n",
    "H4_idx = 52:66\n",
    "H5_idx = 67:74\n",
    "H6_idx = 81:92\n",
    "H7_idx = 93:98\n",
    "H14_idx = 31:38\n",
    "H15_idx = 39:43"
   ]
  },
  {
   "cell_type": "markdown",
   "metadata": {},
   "source": [
    "# Probit version with corrected error prop, etc. "
   ]
  },
  {
   "cell_type": "code",
   "execution_count": 4,
   "metadata": {},
   "outputs": [
    {
     "name": "stdout",
     "output_type": "stream",
     "text": [
      "-----------------------------------------------"
     ]
    },
    {
     "ename": "LoadError",
     "evalue": "InterruptException:",
     "output_type": "error",
     "traceback": [
      "InterruptException:",
      "",
      "Stacktrace:",
      " [1] try_yieldto(::typeof(Base.ensure_rescheduled)) at .\\task.jl:656",
      " [2] wait at .\\task.jl:713 [inlined]",
      " [3] uv_write(::Base.PipeEndpoint, ::Ptr{UInt8}, ::UInt64) at .\\stream.jl:933",
      " [4] unsafe_write(::Base.PipeEndpoint, ::Ptr{UInt8}, ::UInt64) at .\\stream.jl:1005",
      " [5] unsafe_write at .\\io.jl:337 [inlined]",
      " [6] write at .\\strings\\io.jl:183 [inlined]",
      " [7] print at .\\strings\\io.jl:185 [inlined]",
      " [8] print(::IJulia.IJuliaStdio{Base.PipeEndpoint}, ::String, ::Char) at .\\strings\\io.jl:46",
      " [9] println(::IJulia.IJuliaStdio{Base.PipeEndpoint}, ::String) at .\\strings\\io.jl:73",
      " [10] println(::String) at .\\coreio.jl:4",
      " [11] run_collated_model(::String, ::typeof(DAHxmodel_logit_200hx_pkg); runID::String, pathIDx::Array{Any,1}, runFails::Bool, failDirs::Array{Any,1}, postprocessingfunction::Function, compositesavepath::String, suppressFigures::Bool) at C:\\Users\\AssadLab\\Documents\\GitHub\\HSOManalysisPackages\\JuliaLanguage_Hierarchical_Models\\function_library\\auto_pull_matlabdatasets.jl:36",
      " [12] top-level scope at In[4]:8",
      " [13] include_string(::Function, ::Module, ::String, ::String) at .\\loading.jl:1091"
     ]
    }
   ],
   "source": [
    "runID = \"3-9-21_probit\"\n",
    "pathIDx = []\n",
    "collatedPath = \"N:\\\\Assad Lab\\\\allison\\\\Collated Analyses\\\\JULIA_CSVs\\\\All_SNc_nosplitsesh\"\n",
    "compositesavepath=\"N:\\\\Assad Lab\\\\allison\\\\Collated Analyses\\\\PROBIT RESULTS\\\\3-9-21 FullDAHxHaz\"\n",
    "modelpackagefunction = DAHxmodel_logit_200hx_pkg#SHUFFLE_DAHxmodel_logit_200hx_pkg\n",
    "postprocessingfunction = template_postprocessingfunction#bootlogit_timeslice_postprocessingfunction1\n",
    "\n",
    "(fails_haz, results_haz,postprocessing_haz) = run_collated_model(collatedPath, \n",
    "    modelpackagefunction; pathIDx = pathIDx,runFails=false, failDirs=[], postprocessingfunction=postprocessingfunction,\n",
    "    compositesavepath=compositesavepath, runID=runID, suppressFigures=true); "
   ]
  },
  {
   "cell_type": "code",
   "execution_count": null,
   "metadata": {},
   "outputs": [],
   "source": []
  }
 ],
 "metadata": {
  "kernelspec": {
   "display_name": "Julia 1.5.3",
   "language": "julia",
   "name": "julia-1.5"
  },
  "language_info": {
   "file_extension": ".jl",
   "mimetype": "application/julia",
   "name": "julia",
   "version": "1.5.3"
  }
 },
 "nbformat": 4,
 "nbformat_minor": 4
}
