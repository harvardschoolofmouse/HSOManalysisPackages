{
 "cells": [
  {
   "cell_type": "code",
   "execution_count": 2,
   "metadata": {},
   "outputs": [
    {
     "name": "stderr",
     "output_type": "stream",
     "text": [
      "┌ Info: Precompiling DataFrames [a93c6f00-e57d-5684-b7b6-d8193f3e46c0]\n",
      "└ @ Base loading.jl:1278\n"
     ]
    },
    {
     "name": "stdout",
     "output_type": "stream",
     "text": [
      "Refreshed (2021-02-03_1436) "
     ]
    },
    {
     "name": "stderr",
     "output_type": "stream",
     "text": [
      "┌ Info: Precompiling GLMNet [8d5ece8b-de18-5317-b113-243142960cc6]\n",
      "└ @ Base loading.jl:1278\n"
     ]
    },
    {
     "name": "stdout",
     "output_type": "stream",
     "text": [
      "GLMNet_tools.jl "
     ]
    },
    {
     "name": "stderr",
     "output_type": "stream",
     "text": [
      "┌ Info: Precompiling GLM [38e38edf-8417-5370-95a0-9cbb8c7f171a]\n",
      "└ @ Base loading.jl:1278\n"
     ]
    },
    {
     "name": "stdout",
     "output_type": "stream",
     "text": [
      "auto_pull_matlabdatasets.jl cluster_modules.jl feedback_modules.jl file_modules.jl math_modules.jl "
     ]
    },
    {
     "name": "stderr",
     "output_type": "stream",
     "text": [
      "┌ Info: Precompiling ClassImbalance [04a18a73-7590-580c-b363-eeca0919eb2a]\n",
      "└ @ Base loading.jl:1278\n",
      "┌ Info: Precompiling MLBase [f0e99cf1-93fa-52ec-9ecc-5026115318e0]\n",
      "└ @ Base loading.jl:1278\n",
      "┌ Info: Precompiling Lathe [38d8eb38-e7b1-11e9-0012-376b6c802672]\n",
      "└ @ Base loading.jl:1278\n",
      "┌ Info: Precompiling ROCAnalysis [f535d66d-59bb-5153-8d2b-ef0a426c6aff]\n",
      "└ @ Base loading.jl:1278\n",
      "┌ Info: Precompiling HypothesisTests [09f84164-cd44-5f33-b23f-e6b0d136a0d5]\n",
      "└ @ Base loading.jl:1278\n"
     ]
    },
    {
     "name": "stdout",
     "output_type": "stream",
     "text": [
      "modeling_tools.jl plotting_tools.jl probabilistic_modules.jl "
     ]
    }
   ],
   "source": [
    "cd(\"C:\\\\Users\\\\DollahDollahBillz\\\\Documents\\\\GitHub\\\\HSOManalysisPackages\\\\JuliaLanguage_Hierarchical_Models\")\n",
    "include(join([pwd(), \"\\\\function_library\\\\file_modules.jl\"]))\n",
    "refresh_tools(\"function_library\")"
   ]
  },
  {
   "cell_type": "code",
   "execution_count": 3,
   "metadata": {},
   "outputs": [],
   "source": [
    "cd(\"N:\\\\Assad Lab\\\\allison\\\\Collated Analyses\\\\JULIA_CSVs\\\\All_SNc_nosplitsesh\")"
   ]
  },
  {
   "cell_type": "code",
   "execution_count": 4,
   "metadata": {},
   "outputs": [
    {
     "data": {
      "text/plain": [
       "39:43"
      ]
     },
     "execution_count": 4,
     "metadata": {},
     "output_type": "execute_result"
    }
   ],
   "source": [
    "B1_idx = 1:5\n",
    "B2_idx = 6:13\n",
    "B3_idx = 14:24\n",
    "B5_idx = 75:80\n",
    "B6_idx = 25:30\n",
    "H3_idx = 44:51\n",
    "H4_idx = 52:66\n",
    "H5_idx = 67:74\n",
    "H6_idx = 81:92\n",
    "H7_idx = 93:98\n",
    "H14_idx = 31:38\n",
    "H15_idx = 39:43"
   ]
  },
  {
   "cell_type": "markdown",
   "metadata": {},
   "source": [
    "# H6 logit model with DA and nested history terms...\n",
    "trimmed 150ms back from lick\n",
    "fixed lickstate handling"
   ]
  },
  {
   "cell_type": "code",
   "execution_count": null,
   "metadata": {},
   "outputs": [],
   "source": [
    "runID = \"dst-15_H6\"\n",
    "pathIDx = H6_idx\n",
    "collatedPath = \"N:\\\\Assad Lab\\\\allison\\\\Collated Analyses\\\\JULIA_CSVs\\\\All_SNc_nosplitsesh\"\n",
    "modelpackagefunction = nestlogit_200hx_pkg\n",
    "postprocessingfunction = template_postprocessingfunction#bootlogit_timeslice_postprocessingfunction1\n",
    "\n",
    "(fails150_H6, results150_H6,postprocessing150_H6) = run_collated_model(collatedPath, \n",
    "    modelpackagefunction; pathIDx = pathIDx,runFails=false, failDirs=[], postprocessingfunction=postprocessingfunction,\n",
    "    compositesavepath=\"\", runID=runID, suppressFigures=true); "
   ]
  },
  {
   "cell_type": "code",
   "execution_count": null,
   "metadata": {},
   "outputs": [],
   "source": []
  }
 ],
 "metadata": {
  "kernelspec": {
   "display_name": "Julia 1.5.3",
   "language": "julia",
   "name": "julia-1.5"
  },
  "language_info": {
   "file_extension": ".jl",
   "mimetype": "application/julia",
   "name": "julia",
   "version": "1.5.3"
  }
 },
 "nbformat": 4,
 "nbformat_minor": 2
}
