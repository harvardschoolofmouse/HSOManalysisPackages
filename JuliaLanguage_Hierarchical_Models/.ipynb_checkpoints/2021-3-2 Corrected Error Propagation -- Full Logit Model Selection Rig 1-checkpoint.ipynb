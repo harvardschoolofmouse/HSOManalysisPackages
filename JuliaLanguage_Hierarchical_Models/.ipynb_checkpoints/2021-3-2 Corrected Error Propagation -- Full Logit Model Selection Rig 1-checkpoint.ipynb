{
 "cells": [
  {
   "cell_type": "code",
   "execution_count": 2,
   "metadata": {
    "scrolled": true
   },
   "outputs": [
    {
     "name": "stdout",
     "output_type": "stream",
     "text": [
      "Refreshed (2021-03-02_2351) GLMNet_tools.jl auto_pull_matlabdatasets.jl cluster_modules.jl feedback_modules.jl file_modules.jl hazard_modules.jl math_modules.jl modeling_tools.jl plotting_tools.jl probabilistic_modules.jl "
     ]
    }
   ],
   "source": [
    "cd(\"C:\\\\Users\\\\AssadLab\\\\Documents\\\\GitHub\\\\HSOManalysisPackages\\\\JuliaLanguage_Hierarchical_Models\")\n",
    "include(join([pwd(), \"\\\\function_library\\\\file_modules.jl\"]))\n",
    "refresh_tools(\"function_library\")"
   ]
  },
  {
   "cell_type": "markdown",
   "metadata": {},
   "source": [
    "## Accomplishments: hazard works, have fixed error prop and baseline\n",
    "\n",
    "Previously, we showed hazard fits great on DA+Hx2sec_200ms fits across sessions, effect erased by shuffling the model inputs (See 2021-2-23 ipynbs from Rig3, 2021-2-21 SHUFFLEDAhx only test logit and hazard Rig1.ipynb)\n",
    "\n",
    "Now we have updated the error propagation, changed to logit from probit, and added dev explained. (see 4. Constructing a final probabilistic decoding model.pptx)\n",
    "\n",
    "### Starting with Canonical dataset, we will fit the updated model on a variety of model formats..."
   ]
  },
  {
   "cell_type": "code",
   "execution_count": 1,
   "metadata": {},
   "outputs": [],
   "source": [
    "cd(\"N:\\\\Assad Lab\\\\allison\\\\Collated Analyses\\\\JULIA_CSVs\\\\All_SNc_nosplitsesh\")"
   ]
  },
  {
   "cell_type": "code",
   "execution_count": 2,
   "metadata": {},
   "outputs": [
    {
     "data": {
      "text/plain": [
       "39:43"
      ]
     },
     "execution_count": 2,
     "metadata": {},
     "output_type": "execute_result"
    }
   ],
   "source": [
    "B1_idx = 1:5\n",
    "B2_idx = 6:13\n",
    "B3_idx = 14:24\n",
    "B5_idx = 75:80\n",
    "B6_idx = 25:30\n",
    "H3_idx = 44:51\n",
    "H4_idx = 52:66\n",
    "H5_idx = 67:74\n",
    "H6_idx = 81:92\n",
    "H7_idx = 93:98\n",
    "H14_idx = 31:38\n",
    "H15_idx = 39:43"
   ]
  },
  {
   "cell_type": "code",
   "execution_count": null,
   "metadata": {},
   "outputs": [],
   "source": []
  }
 ],
 "metadata": {
  "kernelspec": {
   "display_name": "Julia 1.5.3",
   "language": "julia",
   "name": "julia-1.5"
  },
  "language_info": {
   "file_extension": ".jl",
   "mimetype": "application/julia",
   "name": "julia",
   "version": "1.5.3"
  }
 },
 "nbformat": 4,
 "nbformat_minor": 4
}
