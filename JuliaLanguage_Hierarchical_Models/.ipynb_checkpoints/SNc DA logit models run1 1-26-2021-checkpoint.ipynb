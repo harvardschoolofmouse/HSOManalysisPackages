{
 "cells": [
  {
   "cell_type": "markdown",
   "metadata": {},
   "source": [
    "# Ok! Trying the pre-packaged logit model!\n",
    "\n",
    "Because REPL was being stupid about @formula not being defined, running everything in Jupyter-Notebook.\n",
    "\n",
    "NB this was from being in the wrong folder and not defining GLM. Silly! It works from REPL now."
   ]
  },
  {
   "cell_type": "code",
   "execution_count": 1,
   "metadata": {},
   "outputs": [
    {
     "name": "stdout",
     "output_type": "stream",
     "text": [
      "Refreshed GLMNet_tools.jl auto_pull_matlabdatasets.jl cluster_modules.jl feedback_modules.jl file_modules.jl math_modules.jl modeling_tools.jl plotting_tools.jl probabilistic_modules.jl \t\n",
      "********************************************************************************************\n",
      "     WARNING: suppressing figures from individual sessions, but they will still be saved to host folders for that session.\n",
      "********************************************************************************************\n",
      "\t\n"
     ]
    },
    {
     "ename": "LoadError",
     "evalue": "IOError: chdir /Volumes/Neurobio/Assad Lab/allison/Collated Analyses/JULIA_CSVs/All_SNc_nosplitsesh: no such file or directory (ENOENT)",
     "output_type": "error",
     "traceback": [
      "IOError: chdir /Volumes/Neurobio/Assad Lab/allison/Collated Analyses/JULIA_CSVs/All_SNc_nosplitsesh: no such file or directory (ENOENT)",
      "",
      "Stacktrace:",
      " [1] uv_error at ./libuv.jl:97 [inlined]",
      " [2] cd(::String) at ./file.jl:84",
      " [3] run_collated_model(::String, ::typeof(bootlogit_modelpackage1); runID::Int64, pathIDx::Array{Any,1}, runFails::Bool, failDirs::Array{Any,1}, postprocessingfunction::Function, compositesavepath::String, suppressFigures::Bool) at /Users/lilis/Documents/GitHub/HSOManalysisPackages/JuliaLanguage_Hierarchical_Models/function_library/auto_pull_matlabdatasets.jl:20",
      " [4] top-level scope at In[1]:19",
      " [5] include_string(::Function, ::Module, ::String, ::String) at ./loading.jl:1091"
     ]
    }
   ],
   "source": [
    "# run_logit_model_1.jl\n",
    "\n",
    "# USER MUST SET THESE:\n",
    "collatedPath = \"/Volumes/Neurobio/Assad Lab/allison/Collated Analyses/JULIA_CSVs/All_SNc_nosplitsesh\"\n",
    "compositesavepath=\"\" # the save directory will be formed automagically!\n",
    "runID = 1 # set runID nonZero to specify which run it is.\n",
    "\n",
    "# Use the latest versions of our files and dependencies!\n",
    "cd(\"/Users/lilis/Documents/GitHub/HSOManalysisPackages/JuliaLanguage_Hierarchical_Models\")\n",
    "include(\"/Users/lilis/Documents/GitHub/HSOManalysisPackages/JuliaLanguage_Hierarchical_Models/function_library/file_modules.jl\")\n",
    "refresh_tools(\"/Users/lilis/Documents/GitHub/HSOManalysisPackages/JuliaLanguage_Hierarchical_Models/function_library\", exact=true)\n",
    "println(\"\t\")\n",
    "# CANNED FOR LOGIT:\n",
    "modelpackagefunction = bootlogit_modelpackage1\n",
    "postprocessingfunction = bootlogit_postprocessingfunction1\n",
    "\n",
    "warning(\"suppressing figures from individual sessions, but they will still be saved to host folders for that session.\")\n",
    "println(\"\t\")\n",
    "(fails, results) = run_collated_model(collatedPath, modelpackagefunction; pathIDx = [],runFails=false, failDirs=[], postprocessingfunction=postprocessingfunction,\n",
    "    compositesavepath=compositesavepath, runID=runID, suppressFigures=true); "
   ]
  },
  {
   "cell_type": "code",
   "execution_count": null,
   "metadata": {},
   "outputs": [],
   "source": []
  }
 ],
 "metadata": {
  "kernelspec": {
   "display_name": "Julia 1.5.3",
   "language": "julia",
   "name": "julia-1.5"
  },
  "language_info": {
   "file_extension": ".jl",
   "mimetype": "application/julia",
   "name": "julia",
   "version": "1.5.3"
  }
 },
 "nbformat": 4,
 "nbformat_minor": 2
}
