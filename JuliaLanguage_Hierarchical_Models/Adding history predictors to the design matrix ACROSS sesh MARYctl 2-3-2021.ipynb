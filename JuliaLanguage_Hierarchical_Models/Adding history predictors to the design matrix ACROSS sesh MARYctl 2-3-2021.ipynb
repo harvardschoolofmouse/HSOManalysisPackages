{
 "cells": [
  {
   "cell_type": "code",
   "execution_count": 5,
   "metadata": {},
   "outputs": [
    {
     "name": "stdout",
     "output_type": "stream",
     "text": [
      "Refreshed (2021-02-03_1421) "
     ]
    },
    {
     "name": "stderr",
     "output_type": "stream",
     "text": [
      "┌ Info: Precompiling GLMNet [8d5ece8b-de18-5317-b113-243142960cc6]\n",
      "└ @ Base loading.jl:1278\n"
     ]
    },
    {
     "name": "stdout",
     "output_type": "stream",
     "text": [
      "GLMNet_tools.jl "
     ]
    },
    {
     "name": "stderr",
     "output_type": "stream",
     "text": [
      "┌ Info: Precompiling GLM [38e38edf-8417-5370-95a0-9cbb8c7f171a]\n",
      "└ @ Base loading.jl:1278\n"
     ]
    },
    {
     "name": "stdout",
     "output_type": "stream",
     "text": [
      "auto_pull_matlabdatasets.jl cluster_modules.jl feedback_modules.jl file_modules.jl math_modules.jl "
     ]
    },
    {
     "name": "stderr",
     "output_type": "stream",
     "text": [
      "┌ Info: Precompiling ClassImbalance [04a18a73-7590-580c-b363-eeca0919eb2a]\n",
      "└ @ Base loading.jl:1278\n",
      "┌ Info: Precompiling MLBase [f0e99cf1-93fa-52ec-9ecc-5026115318e0]\n",
      "└ @ Base loading.jl:1278\n",
      "┌ Info: Precompiling Lathe [38d8eb38-e7b1-11e9-0012-376b6c802672]\n",
      "└ @ Base loading.jl:1278\n",
      "┌ Info: Precompiling ROCAnalysis [f535d66d-59bb-5153-8d2b-ef0a426c6aff]\n",
      "└ @ Base loading.jl:1278\n",
      "┌ Info: Precompiling HypothesisTests [09f84164-cd44-5f33-b23f-e6b0d136a0d5]\n",
      "└ @ Base loading.jl:1278\n"
     ]
    },
    {
     "name": "stdout",
     "output_type": "stream",
     "text": [
      "modeling_tools.jl "
     ]
    },
    {
     "name": "stderr",
     "output_type": "stream",
     "text": [
      "┌ Info: Precompiling PyPlot [d330b81b-6aea-500a-939a-2ce795aea3ee]\n",
      "└ @ Base loading.jl:1278\n"
     ]
    },
    {
     "name": "stdout",
     "output_type": "stream",
     "text": [
      "plotting_tools.jl probabilistic_modules.jl "
     ]
    }
   ],
   "source": [
    "cd(\"C:\\\\Users\\\\Mary\\\\Documents\\\\GitHub\\\\HSOManalysisPackages\\\\JuliaLanguage_Hierarchical_Models\")\n",
    "include(join([pwd(), \"\\\\function_library\\\\file_modules.jl\"]))\n",
    "refresh_tools(\"function_library\")"
   ]
  },
  {
   "cell_type": "code",
   "execution_count": 6,
   "metadata": {},
   "outputs": [],
   "source": [
    "cd(\"N:\\\\Assad Lab\\\\allison\\\\Collated Analyses\\\\JULIA_CSVs\\\\All_SNc_nosplitsesh\")"
   ]
  },
  {
   "cell_type": "code",
   "execution_count": 7,
   "metadata": {},
   "outputs": [
    {
     "data": {
      "text/plain": [
       "39:43"
      ]
     },
     "execution_count": 7,
     "metadata": {},
     "output_type": "execute_result"
    }
   ],
   "source": [
    "B1_idx = 1:5\n",
    "B2_idx = 6:13\n",
    "B3_idx = 14:24\n",
    "B5_idx = 75:80\n",
    "B6_idx = 25:30\n",
    "H3_idx = 44:51\n",
    "H4_idx = 52:66\n",
    "H5_idx = 67:74\n",
    "H6_idx = 81:92\n",
    "H7_idx = 93:98\n",
    "H14_idx = 31:38\n",
    "H15_idx = 39:43"
   ]
  },
  {
   "cell_type": "markdown",
   "metadata": {},
   "source": [
    "# B5 logit model with DA and nested history terms...\n",
    "trimmed 150ms back from lick\n",
    "fixed lickstate handling"
   ]
  },
  {
   "cell_type": "code",
   "execution_count": null,
   "metadata": {},
   "outputs": [
    {
     "name": "stdout",
     "output_type": "stream",
     "text": [
      "-----------------------------------------------\n",
      "\t\n",
      "Initializing run_collated_model for nestlogit_200hxdst-15_B5\n",
      "\t\n",
      "Found 98 sessions in N:\\Assad Lab\\allison\\Collated Analyses\\JULIA_CSVs\\All_SNc_nosplitsesh:\n",
      "1. B1_SNc_13\n",
      "2. B1_SNc_15\n",
      "3. B1_SNc_18\n",
      "4. B1_SNc_19\n",
      "5. B1_SNc_20\n",
      "6. B2_SNc_11\n",
      "7. B2_SNc_15\n",
      "8. B2_SNc_17\n",
      "9. B2_SNc_18\n",
      "10. B2_SNc_19\n",
      "11. B2_SNc_20\n",
      "12. B2_SNc_21\n",
      "13. B2_SNc_9\n",
      "14. B3_SNc_10\n",
      "15. B3_SNc_12\n",
      "16. B3_SNc_14\n",
      "17. B3_SNc_15\n",
      "18. B3_SNc_16\n",
      "19. B3_SNc_17\n",
      "20. B3_SNc_18\n",
      "21. B3_SNc_19\n",
      "22. B3_SNc_20\n",
      "23. B3_SNc_21\n",
      "24. B3_SNc_8\n",
      "25. B6_SNc_10\n",
      "26. B6_SNc_11\n",
      "27. B6_SNc_12\n",
      "28. B6_SNc_13\n",
      "29. B6_SNc_7\n",
      "30. B6_SNc_9\n",
      "31. H14_SNc_10\n",
      "32. H14_SNc_12\n",
      "33. H14_SNc_14\n",
      "34. H14_SNc_16\n",
      "35. H14_SNc_18\n",
      "36. H14_SNc_5\n",
      "37. H14_SNc_7\n",
      "38. H14_SNc_8\n",
      "39. H15_SNc_16\n",
      "40. H15_SNc_18\n",
      "41. H15_SNc_5\n",
      "42. H15_SNc_7\n",
      "43. H15_SNc_8\n",
      "44. H3_SNc_13\n",
      "45. H3_SNc_15\n",
      "46. H3_SNc_17\n",
      "47. H3_SNc_18\n",
      "48. H3_SNc_19\n",
      "49. H3_SNc_20\n",
      "50. H3_SNc_7\n",
      "51. H3_SNc_9\n",
      "52. H4_SNc_11\n",
      "53. H4_SNc_13\n",
      "54. H4_SNc_15\n",
      "55. H4_SNc_17\n",
      "56. H4_SNc_18\n",
      "57. H4_SNc_19\n",
      "58. H4_SNc_20\n",
      "59. H4_SNc_21\n",
      "60. H4_SNc_22\n",
      "61. H4_SNc_23\n",
      "62. H4_SNc_24\n",
      "63. H4_SNc_25\n",
      "64. H4_SNc_26\n",
      "65. H4_SNc_7\n",
      "66. H4_SNc_9\n",
      "67. H5_SNc_11\n",
      "68. H5_SNc_13\n",
      "69. H5_SNc_14\n",
      "70. H5_SNc_15\n",
      "71. H5_SNc_16\n",
      "72. H5_SNc_17\n",
      "73. H5_SNc_18\n",
      "74. H5_SNc_19\n",
      "75. b5_SNc_13\n",
      "76. b5_SNc_14\n",
      "77. b5_SNc_15\n",
      "78. b5_SNc_17\n",
      "79. b5_SNc_19\n",
      "80. b5_SNc_9\n",
      "81. h6_SNc_14\n",
      "82. h6_SNc_15\n",
      "83. h6_SNc_16\n",
      "84. h6_SNc_17\n",
      "85. h6_SNc_18\n",
      "86. h6_SNc_19\n",
      "87. h6_SNc_20\n",
      "88. h6_SNc_21\n",
      "89. h6_SNc_5\n",
      "90. h6_SNc_6_1\n",
      "91. h6_SNc_7_1\n",
      "92. h6_SNc_8\n",
      "93. h7_SNc_10\n",
      "94. h7_SNc_11\n",
      "95. h7_SNc_12\n",
      "96. h7_SNc_13\n",
      "97. h7_SNc_8\n",
      "98. h7_SNc_9\n",
      "\tUsing only a subset of these sessions:\n",
      "b5_SNc_13\n",
      "b5_SNc_14\n",
      "b5_SNc_15\n",
      "b5_SNc_17\n",
      "b5_SNc_19\n",
      "b5_SNc_9\n"
     ]
    }
   ],
   "source": [
    "runID = \"dst-15_B5\"\n",
    "pathIDx = B5_idx\n",
    "collatedPath = \"N:\\\\Assad Lab\\\\allison\\\\Collated Analyses\\\\JULIA_CSVs\\\\All_SNc_nosplitsesh\"\n",
    "modelpackagefunction = nestlogit_200hx_pkg\n",
    "postprocessingfunction = template_postprocessingfunction#bootlogit_timeslice_postprocessingfunction1\n",
    "\n",
    "(fails150_B5, results150_B5,postprocessing150_B5) = run_collated_model(collatedPath, \n",
    "    modelpackagefunction; pathIDx = pathIDx,runFails=false, failDirs=[], postprocessingfunction=postprocessingfunction,\n",
    "    compositesavepath=\"\", runID=runID, suppressFigures=true); "
   ]
  },
  {
   "cell_type": "code",
   "execution_count": null,
   "metadata": {},
   "outputs": [],
   "source": []
  }
 ],
 "metadata": {
  "kernelspec": {
   "display_name": "Julia 1.5.3",
   "language": "julia",
   "name": "julia-1.5"
  },
  "language_info": {
   "file_extension": ".jl",
   "mimetype": "application/julia",
   "name": "julia",
   "version": "1.5.3"
  }
 },
 "nbformat": 4,
 "nbformat_minor": 2
}
