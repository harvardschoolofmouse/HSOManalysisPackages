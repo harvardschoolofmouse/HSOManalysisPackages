{
 "cells": [
  {
   "cell_type": "markdown",
   "metadata": {},
   "source": [
    "Initialize Gen and the function libraries"
   ]
  },
  {
   "cell_type": "code",
   "execution_count": 1,
   "metadata": {},
   "outputs": [],
   "source": [
    "using Gen"
   ]
  },
  {
   "cell_type": "code",
   "execution_count": 3,
   "metadata": {},
   "outputs": [
    {
     "name": "stdout",
     "output_type": "stream",
     "text": [
      "Refreshed (2021-03-30_2111) GLMNet_tools.jl auto_pull_matlabdatasets.jl cluster_modules.jl feedback_modules.jl file_modules.jl hazard_modules.jl v 11:37\n",
      "math_modules.jl modeling_tools.jl plotting_tools.jl probabilistic_modules.jl Refreshed (2021-03-30_2111) gen_math_modules.jl gen_plotting_modules.jl gen_stepvramp.jl runner_modules.jl svr_filemods.jl "
     ]
    }
   ],
   "source": [
    "cd(\"C:\\\\Users\\\\AssadLab\\\\Documents\\\\GitHub\\\\HSOManalysisPackages\\\\JuliaLanguage_Hierarchical_Models\")\n",
    "include(join([pwd(), \"\\\\function_library\\\\file_modules.jl\"]))\n",
    "refresh_tools(\"function_library\")\n",
    "refresh_tools(\"gen_stepvramp_library\")"
   ]
  },
  {
   "cell_type": "markdown",
   "metadata": {},
   "source": [
    "Enter the CSV folder for all our sessions"
   ]
  },
  {
   "cell_type": "code",
   "execution_count": 4,
   "metadata": {},
   "outputs": [],
   "source": [
    "cd(\"N:\\\\Assad Lab\\\\allison\\\\Collated Analyses\\\\JULIA_CSVs\\\\All_SNc_nosplitsesh\")\n",
    "# cd(\"/Volumes/Neurobio/Assad Lab/allison/Collated Analyses/JULIA_CSVs/All_SNc_nosplitsesh\")"
   ]
  },
  {
   "cell_type": "code",
   "execution_count": 5,
   "metadata": {},
   "outputs": [
    {
     "data": {
      "text/plain": [
       "39:43"
      ]
     },
     "execution_count": 5,
     "metadata": {},
     "output_type": "execute_result"
    }
   ],
   "source": [
    "B1_idx = 1:5\n",
    "B2_idx = 6:13\n",
    "B3_idx = 14:24\n",
    "B5_idx = 75:80\n",
    "B6_idx = 25:30\n",
    "H3_idx = 44:51\n",
    "H4_idx = 52:66\n",
    "H5_idx = 67:74\n",
    "H6_idx = 81:92\n",
    "H7_idx = 93:98\n",
    "H14_idx = 31:38\n",
    "H15_idx = 39:43"
   ]
  },
  {
   "cell_type": "code",
   "execution_count": 6,
   "metadata": {},
   "outputs": [
    {
     "data": {
      "text/plain": [
       "template_postprocessingfunction (generic function with 1 method)"
      ]
     },
     "execution_count": 6,
     "metadata": {},
     "output_type": "execute_result"
    }
   ],
   "source": [
    "runID = \"21_0330_Rig1\"\n",
    "pathIDx = B1_idx\n",
    "# mac\n",
    "# collatedPath = \"/Volumes/Neurobio/Assad Lab/allison/Collated Analyses/JULIA_CSVs/All_SNc_nosplitsesh\"\n",
    "# compositesavepath=\"/Volumes/Neurobio/Assad Lab/allison/Collated Analyses/HIERARCHY results/3-26-21 hierarchy1\"\n",
    "# windows\n",
    "collatedPath = \"N:\\\\Assad Lab\\\\allison\\\\Collated Analyses\\\\JULIA_CSVs\\\\All_SNc_nosplitsesh\"\n",
    "compositesavepath=\"N:\\\\Assad Lab\\\\allison\\\\Collated Analyses\\\\HIER RESULTS\\\\3-30-21 steponly1\"\n",
    "modelpackagefunction = steponly_v1#SHUFFLE_DAHxmodel_logit_200hx_pkg\n",
    "postprocessingfunction = template_postprocessingfunction#bootlogit_timeslice_postprocessingfunction1"
   ]
  },
  {
   "cell_type": "code",
   "execution_count": null,
   "metadata": {
    "scrolled": true
   },
   "outputs": [
    {
     "name": "stdout",
     "output_type": "stream",
     "text": [
      "-----------------------------------------------\n",
      "\t\n",
      "Initializing run_collated_model for steponly_v1_21_0330_Rig1\n",
      "\t\n",
      "Found 98 sessions in N:\\Assad Lab\\allison\\Collated Analyses\\JULIA_CSVs\\All_SNc_nosplitsesh:\n",
      "1. B1_SNc_13\n",
      "2. B1_SNc_15\n",
      "3. B1_SNc_18\n",
      "4. B1_SNc_19\n",
      "5. B1_SNc_20\n",
      "6. B2_SNc_11\n",
      "7. B2_SNc_15\n",
      "8. B2_SNc_17\n",
      "9. B2_SNc_18\n",
      "10. B2_SNc_19\n",
      "11. B2_SNc_20\n",
      "12. B2_SNc_21\n",
      "13. B2_SNc_9\n",
      "14. B3_SNc_10\n",
      "15. B3_SNc_12\n",
      "16. B3_SNc_14\n",
      "17. B3_SNc_15\n",
      "18. B3_SNc_16\n",
      "19. B3_SNc_17\n",
      "20. B3_SNc_18\n",
      "21. B3_SNc_19\n",
      "22. B3_SNc_20\n",
      "23. B3_SNc_21\n",
      "24. B3_SNc_8\n",
      "25. B6_SNc_10\n",
      "26. B6_SNc_11\n",
      "27. B6_SNc_12\n",
      "28. B6_SNc_13\n",
      "29. B6_SNc_7\n",
      "30. B6_SNc_9\n",
      "31. H14_SNc_10\n",
      "32. H14_SNc_12\n",
      "33. H14_SNc_14\n",
      "34. H14_SNc_16\n",
      "35. H14_SNc_18\n",
      "36. H14_SNc_5\n",
      "37. H14_SNc_7\n",
      "38. H14_SNc_8\n",
      "39. H15_SNc_16\n",
      "40. H15_SNc_18\n",
      "41. H15_SNc_5\n",
      "42. H15_SNc_7\n",
      "43. H15_SNc_8\n",
      "44. H3_SNc_13\n",
      "45. H3_SNc_15\n",
      "46. H3_SNc_17\n",
      "47. H3_SNc_18\n",
      "48. H3_SNc_19\n",
      "49. H3_SNc_20\n",
      "50. H3_SNc_7\n",
      "51. H3_SNc_9\n",
      "52. H4_SNc_11\n",
      "53. H4_SNc_13\n",
      "54. H4_SNc_15\n",
      "55. H4_SNc_17\n",
      "56. H4_SNc_18\n",
      "57. H4_SNc_19\n",
      "58. H4_SNc_20\n",
      "59. H4_SNc_21\n",
      "60. H4_SNc_22\n",
      "61. H4_SNc_23\n",
      "62. H4_SNc_24\n",
      "63. H4_SNc_25\n",
      "64. H4_SNc_26\n",
      "65. H4_SNc_7\n",
      "66. H4_SNc_9\n",
      "67. H5_SNc_11\n",
      "68. H5_SNc_13\n",
      "69. H5_SNc_14\n",
      "70. H5_SNc_15\n",
      "71. H5_SNc_16\n",
      "72. H5_SNc_17\n",
      "73. H5_SNc_18\n",
      "74. H5_SNc_19\n",
      "75. b5_SNc_13\n",
      "76. b5_SNc_14\n",
      "77. b5_SNc_15\n",
      "78. b5_SNc_17\n",
      "79. b5_SNc_19\n",
      "80. b5_SNc_9\n",
      "81. h6_SNc_14\n",
      "82. h6_SNc_15\n",
      "83. h6_SNc_16\n",
      "84. h6_SNc_17\n",
      "85. h6_SNc_18\n",
      "86. h6_SNc_19\n",
      "87. h6_SNc_20\n",
      "88. h6_SNc_21\n",
      "89. h6_SNc_5\n",
      "90. h6_SNc_6_1\n",
      "91. h6_SNc_7_1\n",
      "92. h6_SNc_8\n",
      "93. h7_SNc_10\n",
      "94. h7_SNc_11\n",
      "95. h7_SNc_12\n",
      "96. h7_SNc_13\n",
      "97. h7_SNc_8\n",
      "98. h7_SNc_9\n",
      "\tUsing only a subset of these sessions:\n",
      "B1_SNc_13\n",
      "B1_SNc_15\n",
      "B1_SNc_18\n",
      "B1_SNc_19\n",
      "B1_SNc_20\n",
      "\t\n",
      "-----------------------------------------------\n",
      "Processing B1_SNc_13...(2021-03-30_2113)\n",
      "      *==-------- (1/5) 03/30/21 21:13:237\n",
      "\t\n",
      "truncating data back: -0.15s\n",
      "   *---------- (1/120) 03/30/21 21:13:742\n",
      "   *=--------- (12/120) 03/30/21 21:13:917\n",
      "   *==-------- (24/120) 03/30/21 21:14:677\n",
      "\u001b[31m\u001b[1m! - WARNING:failed to complete inference function on trial 15\u001b[22m\u001b[39m\n",
      "\u001b[31m\u001b[1m! - SoftERROR:reducing over an empty collection is not allowed!\u001b[22m\u001b[39m\n",
      "   *===------- (36/120) 03/30/21 21:14:814\n",
      "   *====------ (48/120) 03/30/21 21:15:37\n",
      "   *=====----- (60/120) 03/30/21 21:15:538\n",
      "   *======---- (72/120) 03/30/21 21:15:47\n",
      "   *=======--- (84/120) 03/30/21 21:16:292\n",
      "\u001b[31m\u001b[1m! - WARNING:failed to complete inference function on trial 35\u001b[22m\u001b[39m\n",
      "\u001b[31m\u001b[1m! - SoftERROR:reducing over an empty collection is not allowed!\u001b[22m\u001b[39m\n",
      "   *========-- (96/120) 03/30/21 21:16:622\n",
      "\u001b[31m\u001b[1m! - WARNING:failed to complete inference function on trial 43\u001b[22m\u001b[39m\n",
      "\u001b[31m\u001b[1m! - SoftERROR:reducing over an empty collection is not allowed!\u001b[22m\u001b[39m\n",
      "\u001b[31m\u001b[1m! - WARNING:failed to complete inference function on trial 46\u001b[22m\u001b[39m\n",
      "\u001b[31m\u001b[1m! - SoftERROR:reducing over an empty collection is not allowed!\u001b[22m\u001b[39m\n",
      "\u001b[31m\u001b[1m! - WARNING:failed to complete inference function on trial 66\u001b[22m\u001b[39m\n",
      "\u001b[31m\u001b[1m! - SoftERROR:reducing over an empty collection is not allowed!\u001b[22m\u001b[39m\n",
      "   *=========- (108/120) 03/30/21 21:16:229\n",
      "   *========== (120/120) 03/30/21 21:17:235\n",
      "wrote MR4 results\n",
      "results type=MR4\n",
      "\u001b[34m\u001b[1m! - refreshed\u001b[22m\u001b[39m\n",
      "-----------------------------------------------\n",
      "Processing B1_SNc_15...(2021-03-30_2117)\n",
      "      *====------ (2/5) 03/30/21 21:17:714\n",
      "\t\n",
      "truncating data back: -0.15s\n",
      "   *---------- (1/116) 03/30/21 21:17:971\n",
      "\u001b[31m\u001b[1m! - WARNING:failed to complete inference function on trial 105\u001b[22m\u001b[39m\n",
      "\u001b[31m\u001b[1m! - SoftERROR:reducing over an empty collection is not allowed!\u001b[22m\u001b[39m\n",
      "\u001b[31m\u001b[1m! - WARNING:failed to complete inference function on trial 106\u001b[22m\u001b[39m\n",
      "\u001b[31m\u001b[1m! - SoftERROR:reducing over an empty collection is not allowed!\u001b[22m\u001b[39m\n",
      "\u001b[31m\u001b[1m! - WARNING:failed to complete inference function on trial 109\u001b[22m\u001b[39m\n",
      "\u001b[31m\u001b[1m! - SoftERROR:reducing over an empty collection is not allowed!\u001b[22m\u001b[39m\n",
      "\u001b[31m\u001b[1m! - WARNING:failed to complete inference function on trial 110\u001b[22m\u001b[39m\n",
      "\u001b[31m\u001b[1m! - SoftERROR:reducing over an empty collection is not allowed!\u001b[22m\u001b[39m\n",
      "\u001b[31m\u001b[1m! - WARNING:failed to complete inference function on trial 117\u001b[22m\u001b[39m\n",
      "\u001b[31m\u001b[1m! - SoftERROR:reducing over an empty collection is not allowed!\u001b[22m\u001b[39m\n",
      "\u001b[31m\u001b[1m! - WARNING:failed to complete inference function on trial 17\u001b[22m\u001b[39m\n",
      "\u001b[31m\u001b[1m! - SoftERROR:reducing over an empty collection is not allowed!\u001b[22m\u001b[39m\n",
      "\u001b[31m\u001b[1m! - WARNING:failed to complete inference function on trial 30\u001b[22m\u001b[39m\n",
      "\u001b[31m\u001b[1m! - SoftERROR:reducing over an empty collection is not allowed!\u001b[22m\u001b[39m\n",
      "\u001b[31m\u001b[1m! - WARNING:failed to complete inference function on trial 50\u001b[22m\u001b[39m\n",
      "\u001b[31m\u001b[1m! - SoftERROR:reducing over an empty collection is not allowed!\u001b[22m\u001b[39m\n",
      "\u001b[31m\u001b[1m! - WARNING:failed to complete inference function on trial 57\u001b[22m\u001b[39m\n",
      "\u001b[31m\u001b[1m! - SoftERROR:reducing over an empty collection is not allowed!\u001b[22m\u001b[39m\n",
      "wrote MR4 results\n",
      "results type=MR4\n",
      "\u001b[34m\u001b[1m! - refreshed\u001b[22m\u001b[39m\n",
      "-----------------------------------------------\n",
      "Processing B1_SNc_18...(2021-03-30_2121)\n",
      "      *======---- (3/5) 03/30/21 21:21:524\n",
      "\t\n",
      "truncating data back: -0.15s\n",
      "   *---------- (1/216) 03/30/21 21:22:607\n",
      "\u001b[31m\u001b[1m! - WARNING:failed to complete inference function on trial 105\u001b[22m\u001b[39m\n",
      "\u001b[31m\u001b[1m! - SoftERROR:reducing over an empty collection is not allowed!\u001b[22m\u001b[39m\n",
      "\u001b[31m\u001b[1m! - WARNING:failed to complete inference function on trial 119\u001b[22m\u001b[39m\n",
      "\u001b[31m\u001b[1m! - SoftERROR:reducing over an empty collection is not allowed!\u001b[22m\u001b[39m\n",
      "\u001b[31m\u001b[1m! - WARNING:failed to complete inference function on trial 123\u001b[22m\u001b[39m\n",
      "\u001b[31m\u001b[1m! - SoftERROR:reducing over an empty collection is not allowed!\u001b[22m\u001b[39m\n",
      "\u001b[31m\u001b[1m! - WARNING:failed to complete inference function on trial 137\u001b[22m\u001b[39m\n",
      "\u001b[31m\u001b[1m! - SoftERROR:reducing over an empty collection is not allowed!\u001b[22m\u001b[39m\n",
      "\u001b[31m\u001b[1m! - WARNING:failed to complete inference function on trial 160\u001b[22m\u001b[39m\n",
      "\u001b[31m\u001b[1m! - SoftERROR:reducing over an empty collection is not allowed!\u001b[22m\u001b[39m\n",
      "\u001b[31m\u001b[1m! - WARNING:failed to complete inference function on trial 196\u001b[22m\u001b[39m\n",
      "\u001b[31m\u001b[1m! - SoftERROR:reducing over an empty collection is not allowed!\u001b[22m\u001b[39m\n",
      "\u001b[31m\u001b[1m! - WARNING:failed to complete inference function on trial 215\u001b[22m\u001b[39m\n",
      "\u001b[31m\u001b[1m! - SoftERROR:reducing over an empty collection is not allowed!\u001b[22m\u001b[39m\n",
      "\u001b[31m\u001b[1m! - WARNING:failed to complete inference function on trial 226\u001b[22m\u001b[39m\n",
      "\u001b[31m\u001b[1m! - SoftERROR:reducing over an empty collection is not allowed!\u001b[22m\u001b[39m\n",
      "\u001b[31m\u001b[1m! - WARNING:failed to complete inference function on trial 22\u001b[22m\u001b[39m\n",
      "\u001b[31m\u001b[1m! - SoftERROR:reducing over an empty collection is not allowed!\u001b[22m\u001b[39m\n",
      "\u001b[31m\u001b[1m! - WARNING:failed to complete inference function on trial 239\u001b[22m\u001b[39m"
     ]
    }
   ],
   "source": [
    "(fails, results,postprocessing) = run_collated_model(collatedPath, \n",
    "    modelpackagefunction; pathIDx = pathIDx,runFails=false, failDirs=[], postprocessingfunction=postprocessingfunction,\n",
    "    compositesavepath=compositesavepath, runID=runID, suppressFigures=true); "
   ]
  },
  {
   "cell_type": "code",
   "execution_count": null,
   "metadata": {},
   "outputs": [],
   "source": [
    "runID = \"21_0330_Rig1\"\n",
    "pathIDx = B2_idx\n",
    "# mac\n",
    "# collatedPath = \"/Volumes/Neurobio/Assad Lab/allison/Collated Analyses/JULIA_CSVs/All_SNc_nosplitsesh\"\n",
    "# compositesavepath=\"/Volumes/Neurobio/Assad Lab/allison/Collated Analyses/HIERARCHY results/3-26-21 hierarchy1\"\n",
    "# windows\n",
    "collatedPath = \"N:\\\\Assad Lab\\\\allison\\\\Collated Analyses\\\\JULIA_CSVs\\\\All_SNc_nosplitsesh\"\n",
    "compositesavepath=\"N:\\\\Assad Lab\\\\allison\\\\Collated Analyses\\\\HIER RESULTS\\\\3-30-21 steponly1\"\n",
    "modelpackagefunction = steponly_v1#SHUFFLE_DAHxmodel_logit_200hx_pkg\n",
    "postprocessingfunction = template_postprocessingfunction#bootlogit_timeslice_postprocessingfunction1\n",
    "(fails, results,postprocessing) = run_collated_model(collatedPath, \n",
    "    modelpackagefunction; pathIDx = pathIDx,runFails=false, failDirs=[], postprocessingfunction=postprocessingfunction,\n",
    "    compositesavepath=compositesavepath, runID=runID, suppressFigures=true); "
   ]
  },
  {
   "cell_type": "code",
   "execution_count": null,
   "metadata": {},
   "outputs": [],
   "source": [
    "runID = \"21_0330_Rig1\"\n",
    "pathIDx = B3_idx\n",
    "# mac\n",
    "# collatedPath = \"/Volumes/Neurobio/Assad Lab/allison/Collated Analyses/JULIA_CSVs/All_SNc_nosplitsesh\"\n",
    "# compositesavepath=\"/Volumes/Neurobio/Assad Lab/allison/Collated Analyses/HIERARCHY results/3-26-21 hierarchy1\"\n",
    "# windows\n",
    "collatedPath = \"N:\\\\Assad Lab\\\\allison\\\\Collated Analyses\\\\JULIA_CSVs\\\\All_SNc_nosplitsesh\"\n",
    "compositesavepath=\"N:\\\\Assad Lab\\\\allison\\\\Collated Analyses\\\\HIER RESULTS\\\\3-30-21 steponly1\"\n",
    "modelpackagefunction = steponly_v1#SHUFFLE_DAHxmodel_logit_200hx_pkg\n",
    "postprocessingfunction = template_postprocessingfunction#bootlogit_timeslice_postprocessingfunction1\n",
    "(fails, results,postprocessing) = run_collated_model(collatedPath, \n",
    "    modelpackagefunction; pathIDx = pathIDx,runFails=false, failDirs=[], postprocessingfunction=postprocessingfunction,\n",
    "    compositesavepath=compositesavepath, runID=runID, suppressFigures=true); "
   ]
  },
  {
   "cell_type": "code",
   "execution_count": null,
   "metadata": {},
   "outputs": [],
   "source": [
    "runID = \"21_0330_Rig1\"\n",
    "pathIDx = B5_idx\n",
    "# mac\n",
    "# collatedPath = \"/Volumes/Neurobio/Assad Lab/allison/Collated Analyses/JULIA_CSVs/All_SNc_nosplitsesh\"\n",
    "# compositesavepath=\"/Volumes/Neurobio/Assad Lab/allison/Collated Analyses/HIERARCHY results/3-26-21 hierarchy1\"\n",
    "# windows\n",
    "collatedPath = \"N:\\\\Assad Lab\\\\allison\\\\Collated Analyses\\\\JULIA_CSVs\\\\All_SNc_nosplitsesh\"\n",
    "compositesavepath=\"N:\\\\Assad Lab\\\\allison\\\\Collated Analyses\\\\HIER RESULTS\\\\3-30-21 steponly1\"\n",
    "modelpackagefunction = steponly_v1#SHUFFLE_DAHxmodel_logit_200hx_pkg\n",
    "postprocessingfunction = template_postprocessingfunction#bootlogit_timeslice_postprocessingfunction1\n",
    "(fails, results,postprocessing) = run_collated_model(collatedPath, \n",
    "    modelpackagefunction; pathIDx = pathIDx,runFails=false, failDirs=[], postprocessingfunction=postprocessingfunction,\n",
    "    compositesavepath=compositesavepath, runID=runID, suppressFigures=true); "
   ]
  },
  {
   "cell_type": "code",
   "execution_count": null,
   "metadata": {},
   "outputs": [],
   "source": [
    "runID = \"21_0330_Rig1\"\n",
    "pathIDx = B6_idx\n",
    "# mac\n",
    "# collatedPath = \"/Volumes/Neurobio/Assad Lab/allison/Collated Analyses/JULIA_CSVs/All_SNc_nosplitsesh\"\n",
    "# compositesavepath=\"/Volumes/Neurobio/Assad Lab/allison/Collated Analyses/HIERARCHY results/3-26-21 hierarchy1\"\n",
    "# windows\n",
    "collatedPath = \"N:\\\\Assad Lab\\\\allison\\\\Collated Analyses\\\\JULIA_CSVs\\\\All_SNc_nosplitsesh\"\n",
    "compositesavepath=\"N:\\\\Assad Lab\\\\allison\\\\Collated Analyses\\\\HIER RESULTS\\\\3-30-21 steponly1\"\n",
    "modelpackagefunction = steponly_v1#SHUFFLE_DAHxmodel_logit_200hx_pkg\n",
    "postprocessingfunction = template_postprocessingfunction#bootlogit_timeslice_postprocessingfunction1\n",
    "(fails, results,postprocessing) = run_collated_model(collatedPath, \n",
    "    modelpackagefunction; pathIDx = pathIDx,runFails=false, failDirs=[], postprocessingfunction=postprocessingfunction,\n",
    "    compositesavepath=compositesavepath, runID=runID, suppressFigures=true); "
   ]
  },
  {
   "cell_type": "code",
   "execution_count": null,
   "metadata": {},
   "outputs": [],
   "source": []
  }
 ],
 "metadata": {
  "kernelspec": {
   "display_name": "Julia 1.5.3",
   "language": "julia",
   "name": "julia-1.5"
  },
  "language_info": {
   "file_extension": ".jl",
   "mimetype": "application/julia",
   "name": "julia",
   "version": "1.5.3"
  }
 },
 "nbformat": 4,
 "nbformat_minor": 2
}
