{
 "cells": [
  {
   "cell_type": "markdown",
   "metadata": {},
   "source": [
    "Initialize Gen and the function libraries"
   ]
  },
  {
   "cell_type": "code",
   "execution_count": 1,
   "metadata": {},
   "outputs": [],
   "source": [
    "using Gen"
   ]
  },
  {
   "cell_type": "code",
   "execution_count": 16,
   "metadata": {},
   "outputs": [
    {
     "name": "stdout",
     "output_type": "stream",
     "text": [
      "Refreshed (2021-03-26_1754) GLMNet_tools.jl auto_pull_matlabdatasets.jl cluster_modules.jl feedback_modules.jl file_modules.jl hazard_modules.jl v 11:37\n",
      "math_modules.jl modeling_tools.jl plotting_tools.jl probabilistic_modules.jl Refreshed (2021-03-26_1754) gen_math_modules.jl gen_plotting_modules.jl gen_stepvramp.jl runner_modules.jl svr_filemods.jl "
     ]
    }
   ],
   "source": [
    "cd(\"/Users/lilis/Documents/GitHub/HSOManalysisPackages/JuliaLanguage_Hierarchical_Models\")\n",
    "include(join([pwd(), \"/function_library/file_modules.jl\"]))\n",
    "refresh_tools(\"function_library\")\n",
    "refresh_tools(\"gen_stepvramp_library\")"
   ]
  },
  {
   "cell_type": "markdown",
   "metadata": {},
   "source": [
    "Enter the CSV folder for all our sessions"
   ]
  },
  {
   "cell_type": "code",
   "execution_count": 9,
   "metadata": {},
   "outputs": [],
   "source": [
    "# cd(\"N:\\\\Assad Lab\\\\allison\\\\Collated Analyses\\\\JULIA_CSVs\\\\All_SNc_nosplitsesh\")\n",
    "cd(\"/Volumes/Neurobio/Assad Lab/allison/Collated Analyses/JULIA_CSVs/All_SNc_nosplitsesh\")"
   ]
  },
  {
   "cell_type": "code",
   "execution_count": 7,
   "metadata": {
    "collapsed": true
   },
   "outputs": [
    {
     "data": {
      "text/plain": [
       "39:43"
      ]
     },
     "execution_count": 7,
     "metadata": {},
     "output_type": "execute_result"
    }
   ],
   "source": [
    "B1_idx = 1:5\n",
    "B2_idx = 6:13\n",
    "B3_idx = 14:24\n",
    "B5_idx = 75:80\n",
    "B6_idx = 25:30\n",
    "H3_idx = 44:51\n",
    "H4_idx = 52:66\n",
    "H5_idx = 67:74\n",
    "H6_idx = 81:92\n",
    "H7_idx = 93:98\n",
    "H14_idx = 31:38\n",
    "H15_idx = 39:43"
   ]
  },
  {
   "cell_type": "code",
   "execution_count": 14,
   "metadata": {
    "scrolled": true
   },
   "outputs": [
    {
     "name": "stdout",
     "output_type": "stream",
     "text": [
      "-----------------------------------------------\n",
      "\t\n",
      "Initializing run_collated_model for hierarchy_v1_2021_3_26_Mac\n",
      "\t\n",
      "Found 98 sessions in /Volumes/Neurobio/Assad Lab/allison/Collated Analyses/JULIA_CSVs/All_SNc_nosplitsesh:\n",
      "1. B1_SNc_13\n",
      "2. B1_SNc_15\n",
      "3. B1_SNc_18\n",
      "4. B1_SNc_19\n",
      "5. B1_SNc_20\n",
      "6. B2_SNc_11\n",
      "7. B2_SNc_15\n",
      "8. B2_SNc_17\n",
      "9. B2_SNc_18\n",
      "10. B2_SNc_19\n",
      "11. B2_SNc_20\n",
      "12. B2_SNc_21\n",
      "13. B2_SNc_9\n",
      "14. B3_SNc_10\n",
      "15. B3_SNc_12\n",
      "16. B3_SNc_14\n",
      "17. B3_SNc_15\n",
      "18. B3_SNc_16\n",
      "19. B3_SNc_17\n",
      "20. B3_SNc_18\n",
      "21. B3_SNc_19\n",
      "22. B3_SNc_20\n",
      "23. B3_SNc_21\n",
      "24. B3_SNc_8\n",
      "25. B6_SNc_10\n",
      "26. B6_SNc_11\n",
      "27. B6_SNc_12\n",
      "28. B6_SNc_13\n",
      "29. B6_SNc_7\n",
      "30. B6_SNc_9\n",
      "31. H14_SNc_10\n",
      "32. H14_SNc_12\n",
      "33. H14_SNc_14\n",
      "34. H14_SNc_16\n",
      "35. H14_SNc_18\n",
      "36. H14_SNc_5\n",
      "37. H14_SNc_7\n",
      "38. H14_SNc_8\n",
      "39. H15_SNc_16\n",
      "40. H15_SNc_18\n",
      "41. H15_SNc_5\n",
      "42. H15_SNc_7\n",
      "43. H15_SNc_8\n",
      "44. H3_SNc_13\n",
      "45. H3_SNc_15\n",
      "46. H3_SNc_17\n",
      "47. H3_SNc_18\n",
      "48. H3_SNc_19\n",
      "49. H3_SNc_20\n",
      "50. H3_SNc_7\n",
      "51. H3_SNc_9\n",
      "52. H4_SNc_11\n",
      "53. H4_SNc_13\n",
      "54. H4_SNc_15\n",
      "55. H4_SNc_17\n",
      "56. H4_SNc_18\n",
      "57. H4_SNc_19\n",
      "58. H4_SNc_20\n",
      "59. H4_SNc_21\n",
      "60. H4_SNc_22\n",
      "61. H4_SNc_23\n",
      "62. H4_SNc_24\n",
      "63. H4_SNc_25\n",
      "64. H4_SNc_26\n",
      "65. H4_SNc_7\n",
      "66. H4_SNc_9\n",
      "67. H5_SNc_11\n",
      "68. H5_SNc_13\n",
      "69. H5_SNc_14\n",
      "70. H5_SNc_15\n",
      "71. H5_SNc_16\n",
      "72. H5_SNc_17\n",
      "73. H5_SNc_18\n",
      "74. H5_SNc_19\n",
      "75. b5_SNc_13\n",
      "76. b5_SNc_14\n",
      "77. b5_SNc_15\n",
      "78. b5_SNc_17\n",
      "79. b5_SNc_19\n",
      "80. b5_SNc_9\n",
      "81. h6_SNc_14\n",
      "82. h6_SNc_15\n",
      "83. h6_SNc_16\n",
      "84. h6_SNc_17\n",
      "85. h6_SNc_18\n",
      "86. h6_SNc_19\n",
      "87. h6_SNc_20\n",
      "88. h6_SNc_21\n",
      "89. h6_SNc_5\n",
      "90. h6_SNc_6_1\n",
      "91. h6_SNc_7_1\n",
      "92. h6_SNc_8\n",
      "93. h7_SNc_10\n",
      "94. h7_SNc_11\n",
      "95. h7_SNc_12\n",
      "96. h7_SNc_13\n",
      "97. h7_SNc_8\n",
      "98. h7_SNc_9\n",
      "\tUsing only a subset of these sessions:\n",
      "b5_SNc_13\n",
      "\t\n",
      "-----------------------------------------------\n",
      "Processing b5_SNc_13...(2021-03-26_1747)\n",
      "      *---------- (1/1) 03/26/21 17:47:567\n",
      "\t\n",
      "\t\n",
      "\u001b[31m\"!!!!!!!!!!!!!!!!!!!!!!!!!!!!! ERROR\"\u001b[0m\n",
      "\u001b[31m\"\tOn path /Volumes/Neurobio/Assad Lab/allison/Collated Analyses/JULIA_CSVs/All_SNc_nosplitsesh/b5_SNc_13/singletrial...\"\u001b[0m\n",
      "\u001b[31m\"blmode=false  LOImode=false\"\u001b[0m\n",
      "\u001b[31m\"i=196  ystart=515  xstart=0\"\u001b[0m\n",
      "\u001b[31m\"Could not vec(readdlm(a[xstart+i], ',', Float64, '\n",
      "'));\"\u001b[0m\n",
      "\u001b[31m\"a[xstart+i-1]=x_t280_fl2.9762s_b5_SNc_13.csv\"\u001b[0m\n",
      "\u001b[31m\"a[ystart+i-1]=y_t280_fl2.9762s_b5_SNc_13.csv\"\u001b[0m\n",
      "\u001b[31m\"a[xstart+i]=x_t281_fl1.8307s_b5_SNc_13.csv\"\u001b[0m\n",
      "\u001b[31m\"a[ystart+i]=y_t281_fl1.8307s_b5_SNc_13.csv\"\u001b[0m\n",
      "\t!********* Encountered error! Skipping this directory\n",
      "\t\n"
     ]
    },
    {
     "ename": "LoadError",
     "evalue": "InterruptException:",
     "output_type": "error",
     "traceback": [
      "InterruptException:",
      "",
      "Stacktrace:",
      " [1] #unsafe_wrap#68 at ./pointer.jl:84 [inlined]",
      " [2] unsafe_wrap at ./pointer.jl:84 [inlined]",
      " [3] mmap(::IOStream, ::Type{Array{UInt8,1}}, ::Tuple{Int64}, ::Int64; grow::Bool, shared::Bool) at /Users/julia/buildbot/worker/package_macos64/build/usr/share/julia/stdlib/v1.5/Mmap/src/Mmap.jl:227",
      " [4] mmap at /Users/julia/buildbot/worker/package_macos64/build/usr/share/julia/stdlib/v1.5/Mmap/src/Mmap.jl:189 [inlined] (repeats 2 times)",
      " [5] #10 at /Users/julia/buildbot/worker/package_macos64/build/usr/share/julia/stdlib/v1.5/DelimitedFiles/src/DelimitedFiles.jl:239 [inlined]",
      " [6] open(::DelimitedFiles.var\"#10#11\"{Int64}, ::String, ::Vararg{String,N} where N; kwargs::Base.Iterators.Pairs{Union{},Union{},Tuple{},NamedTuple{,Tuple{}}}) at ./io.jl:325",
      " [7] open at ./io.jl:323 [inlined]",
      " [8] readdlm_auto(::String, ::Char, ::Type{T} where T, ::Char, ::Bool; opts::Base.Iterators.Pairs{Union{},Union{},Tuple{},NamedTuple{,Tuple{}}}) at /Users/julia/buildbot/worker/package_macos64/build/usr/share/julia/stdlib/v1.5/DelimitedFiles/src/DelimitedFiles.jl:238",
      " [9] readdlm_auto at /Users/julia/buildbot/worker/package_macos64/build/usr/share/julia/stdlib/v1.5/DelimitedFiles/src/DelimitedFiles.jl:233 [inlined]",
      " [10] #readdlm#6 at /Users/julia/buildbot/worker/package_macos64/build/usr/share/julia/stdlib/v1.5/DelimitedFiles/src/DelimitedFiles.jl:225 [inlined]",
      " [11] readdlm at /Users/julia/buildbot/worker/package_macos64/build/usr/share/julia/stdlib/v1.5/DelimitedFiles/src/DelimitedFiles.jl:225 [inlined]",
      " [12] extract_data(::String; blmode::Bool, LOImode::Bool) at /Users/lilis/Documents/GitHub/HSOManalysisPackages/JuliaLanguage_Hierarchical_Models/function_library/file_modules.jl:83",
      " [13] hierarchy_v1(::String; sessionID::String, getpackagename::Bool, runID::String, suppressFigures::Bool) at /Users/lilis/Documents/GitHub/HSOManalysisPackages/JuliaLanguage_Hierarchical_Models/gen_stepvramp_library/runner_modules.jl:83",
      " [14] run_collated_model(::String, ::typeof(hierarchy_v1); runID::String, pathIDx::Array{Int64,1}, runFails::Bool, failDirs::Array{Any,1}, postprocessingfunction::Function, compositesavepath::String, suppressFigures::Bool) at /Users/lilis/Documents/GitHub/HSOManalysisPackages/JuliaLanguage_Hierarchical_Models/function_library/auto_pull_matlabdatasets.jl:98",
      " [15] top-level scope at In[14]:12",
      " [16] include_string(::Function, ::Module, ::String, ::String) at ./loading.jl:1091"
     ]
    }
   ],
   "source": [
    "runID = \"2021_3_26_Mac\"\n",
    "pathIDx = [75]\n",
    "# mac\n",
    "collatedPath = \"/Volumes/Neurobio/Assad Lab/allison/Collated Analyses/JULIA_CSVs/All_SNc_nosplitsesh\"\n",
    "compositesavepath=\"/Volumes/Neurobio/Assad Lab/allison/Collated Analyses/HIERARCHY results/3-26-21 hierarchy1\"\n",
    "# windows\n",
    "# collatedPath = \"N:\\\\Assad Lab\\\\allison\\\\Collated Analyses\\\\JULIA_CSVs\\\\All_SNc_nosplitsesh\"\n",
    "# compositesavepath=\"N:\\\\Assad Lab\\\\allison\\\\Collated Analyses\\\\HIERARCHY RESULTS\\\\3-26-21 hierarchy1\"\n",
    "modelpackagefunction = hierarchy_v1#SHUFFLE_DAHxmodel_logit_200hx_pkg\n",
    "postprocessingfunction = template_postprocessingfunction#bootlogit_timeslice_postprocessingfunction1\n",
    "\n",
    "(fails, results,postprocessing) = run_collated_model(collatedPath, \n",
    "    modelpackagefunction; pathIDx = pathIDx,runFails=false, failDirs=[], postprocessingfunction=postprocessingfunction,\n",
    "    compositesavepath=compositesavepath, runID=runID, suppressFigures=true); "
   ]
  },
  {
   "cell_type": "code",
   "execution_count": null,
   "metadata": {},
   "outputs": [],
   "source": []
  }
 ],
 "metadata": {
  "kernelspec": {
   "display_name": "Julia 1.5.3",
   "language": "julia",
   "name": "julia-1.5"
  },
  "language_info": {
   "file_extension": ".jl",
   "mimetype": "application/julia",
   "name": "julia",
   "version": "1.5.3"
  }
 },
 "nbformat": 4,
 "nbformat_minor": 2
}
