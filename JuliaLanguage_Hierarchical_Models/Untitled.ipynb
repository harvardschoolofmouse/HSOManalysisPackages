{
 "cells": [
  {
   "cell_type": "code",
   "execution_count": 160,
   "metadata": {},
   "outputs": [
    {
     "name": "stdout",
     "output_type": "stream",
     "text": [
      "Refreshed (2021-03-08_1908) GLMNet_tools.jl auto_pull_matlabdatasets.jl cluster_modules.jl feedback_modules.jl file_modules.jl hazard_modules.jl v 11:37\n",
      "math_modules.jl modeling_tools.jl plotting_tools.jl probabilistic_modules.jl "
     ]
    }
   ],
   "source": [
    "cd(\"/Users/lilis/Documents/GitHub/HSOManalysisPackages/JuliaLanguage_Hierarchical_Models\")\n",
    "include(join([pwd(), \"/function_library/file_modules.jl\"]))\n",
    "refresh_tools(\"function_library\")"
   ]
  },
  {
   "cell_type": "raw",
   "metadata": {},
   "source": [
    "hazs = importDataFrame(\"/Volumes/Neurobio/Assad Lab/allison/Collated Analyses/LOGIT results/3-4-21 Full DA Hx and Hazard/COMPOSITE98_haz_hazs.csv\"; suppresswarn=false)"
   ]
  },
  {
   "cell_type": "code",
   "execution_count": 9,
   "metadata": {},
   "outputs": [
    {
     "data": {
      "text/html": [
       "<table class=\"data-frame\"><thead><tr><th></th><th>0.0021852</th><th>0.0019767</th><th>0.0021323</th><th>0.002083</th><th>0.002128</th><th>0.0020801</th><th>0.0020815</th></tr><tr><th></th><th>Float64</th><th>Float64</th><th>Float64</th><th>Float64</th><th>Float64</th><th>Float64</th><th>Float64</th></tr></thead><tbody><p>97 rows × 1,701 columns (omitted printing of 1694 columns)</p><tr><th>1</th><td>0.0020532</td><td>0.0020592</td><td>0.0019389</td><td>0.0019826</td><td>0.0020884</td><td>0.0019476</td><td>0.0019743</td></tr><tr><th>2</th><td>0.0020355</td><td>0.0019963</td><td>0.0019883</td><td>0.0019803</td><td>0.0019807</td><td>0.0019642</td><td>0.0020083</td></tr><tr><th>3</th><td>0.0028881</td><td>0.002791</td><td>0.0028081</td><td>0.0028237</td><td>0.0027931</td><td>0.0027793</td><td>0.0027893</td></tr><tr><th>4</th><td>0.0020664</td><td>0.0020163</td><td>0.002118</td><td>0.002078</td><td>0.0020437</td><td>0.0019928</td><td>0.002034</td></tr><tr><th>5</th><td>0.0028604</td><td>0.0028406</td><td>0.0029031</td><td>0.0030831</td><td>0.003297</td><td>0.0034535</td><td>0.0037673</td></tr><tr><th>6</th><td>0.0025947</td><td>0.0026209</td><td>0.0026177</td><td>0.002662</td><td>0.0026989</td><td>0.0026754</td><td>0.0025556</td></tr><tr><th>7</th><td>0.0014313</td><td>0.0013991</td><td>0.0014207</td><td>0.0014691</td><td>0.0014081</td><td>0.0014622</td><td>0.0014407</td></tr><tr><th>8</th><td>0.0012798</td><td>0.0012928</td><td>0.0013178</td><td>0.0012946</td><td>0.0012868</td><td>0.0012818</td><td>0.0012071</td></tr><tr><th>9</th><td>0.0021188</td><td>0.0020523</td><td>0.0020701</td><td>0.0021076</td><td>0.0021367</td><td>0.0021655</td><td>0.002148</td></tr><tr><th>10</th><td>0.0017022</td><td>0.001717</td><td>0.0017401</td><td>0.0017533</td><td>0.0017447</td><td>0.0017625</td><td>0.0017747</td></tr><tr><th>11</th><td>0.0019773</td><td>0.0019798</td><td>0.001978</td><td>0.0019738</td><td>0.0019702</td><td>0.0019615</td><td>0.0019443</td></tr><tr><th>12</th><td>0.0024066</td><td>0.0023201</td><td>0.002459</td><td>0.0028447</td><td>0.0029765</td><td>0.0032274</td><td>0.0027906</td></tr><tr><th>13</th><td>0.0033243</td><td>0.0034409</td><td>0.0038089</td><td>0.0041491</td><td>0.0040123</td><td>0.0031882</td><td>0.0034723</td></tr><tr><th>14</th><td>0.0032745</td><td>0.0031495</td><td>0.0033884</td><td>0.0032852</td><td>0.0032291</td><td>0.0038211</td><td>0.0033904</td></tr><tr><th>15</th><td>0.0015853</td><td>0.0015536</td><td>0.0015606</td><td>0.0015922</td><td>0.0016143</td><td>0.0016375</td><td>0.0016501</td></tr><tr><th>16</th><td>0.00099898</td><td>0.0010259</td><td>0.00098256</td><td>0.0010078</td><td>0.00098123</td><td>0.0010044</td><td>0.0010122</td></tr><tr><th>17</th><td>0.0010831</td><td>0.0010666</td><td>0.0010653</td><td>0.0010738</td><td>0.0010688</td><td>0.0010815</td><td>0.0010843</td></tr><tr><th>18</th><td>0.0013464</td><td>0.0013693</td><td>0.0013644</td><td>0.0013483</td><td>0.0013598</td><td>0.0013679</td><td>0.001355</td></tr><tr><th>19</th><td>0.0030118</td><td>0.0029538</td><td>0.0030268</td><td>0.0030949</td><td>0.0031327</td><td>0.0030987</td><td>0.0030982</td></tr><tr><th>20</th><td>0.0031513</td><td>0.0031355</td><td>0.0031591</td><td>0.0032074</td><td>0.0032153</td><td>0.0031768</td><td>0.0031921</td></tr><tr><th>21</th><td>0.0014498</td><td>0.0014685</td><td>0.0014919</td><td>0.0014685</td><td>0.0014657</td><td>0.0014584</td><td>0.0014609</td></tr><tr><th>22</th><td>0.0020936</td><td>0.0020269</td><td>0.0020435</td><td>0.0020562</td><td>0.0020943</td><td>0.0020481</td><td>0.0020146</td></tr><tr><th>23</th><td>0.0029056</td><td>0.0028793</td><td>0.0031798</td><td>0.0038379</td><td>0.0037285</td><td>0.0029268</td><td>0.0029451</td></tr><tr><th>24</th><td>0.0030068</td><td>0.0025129</td><td>0.0027003</td><td>0.0028909</td><td>0.0032936</td><td>0.0033545</td><td>0.00337</td></tr><tr><th>25</th><td>0.0033158</td><td>0.0028298</td><td>0.0029262</td><td>0.003172</td><td>0.0032344</td><td>0.003238</td><td>0.0031666</td></tr><tr><th>26</th><td>0.0028298</td><td>0.0026204</td><td>0.0026391</td><td>0.0027701</td><td>0.0030538</td><td>0.0034662</td><td>0.0035064</td></tr><tr><th>27</th><td>0.0014177</td><td>0.0013517</td><td>0.0013704</td><td>0.0015116</td><td>0.0016175</td><td>0.0017032</td><td>0.0017347</td></tr><tr><th>28</th><td>0.0033004</td><td>0.0030169</td><td>0.003053</td><td>0.0032181</td><td>0.0033388</td><td>0.0033955</td><td>0.0033394</td></tr><tr><th>29</th><td>0.0035553</td><td>0.0032189</td><td>0.0034419</td><td>0.0036197</td><td>0.0036622</td><td>0.0035295</td><td>0.0035522</td></tr><tr><th>30</th><td>0.00095096</td><td>0.00094419</td><td>0.00092686</td><td>0.00092377</td><td>0.00093352</td><td>0.00093545</td><td>0.00093721</td></tr><tr><th>&vellip;</th><td>&vellip;</td><td>&vellip;</td><td>&vellip;</td><td>&vellip;</td><td>&vellip;</td><td>&vellip;</td><td>&vellip;</td></tr></tbody></table>"
      ],
      "text/latex": [
       "\\begin{tabular}{r|cccccccc}\n",
       "\t& 0.0021852 & 0.0019767 & 0.0021323 & 0.002083 & 0.002128 & 0.0020801 & 0.0020815 & \\\\\n",
       "\t\\hline\n",
       "\t& Float64 & Float64 & Float64 & Float64 & Float64 & Float64 & Float64 & \\\\\n",
       "\t\\hline\n",
       "\t1 & 0.0020532 & 0.0020592 & 0.0019389 & 0.0019826 & 0.0020884 & 0.0019476 & 0.0019743 & $\\dots$ \\\\\n",
       "\t2 & 0.0020355 & 0.0019963 & 0.0019883 & 0.0019803 & 0.0019807 & 0.0019642 & 0.0020083 & $\\dots$ \\\\\n",
       "\t3 & 0.0028881 & 0.002791 & 0.0028081 & 0.0028237 & 0.0027931 & 0.0027793 & 0.0027893 & $\\dots$ \\\\\n",
       "\t4 & 0.0020664 & 0.0020163 & 0.002118 & 0.002078 & 0.0020437 & 0.0019928 & 0.002034 & $\\dots$ \\\\\n",
       "\t5 & 0.0028604 & 0.0028406 & 0.0029031 & 0.0030831 & 0.003297 & 0.0034535 & 0.0037673 & $\\dots$ \\\\\n",
       "\t6 & 0.0025947 & 0.0026209 & 0.0026177 & 0.002662 & 0.0026989 & 0.0026754 & 0.0025556 & $\\dots$ \\\\\n",
       "\t7 & 0.0014313 & 0.0013991 & 0.0014207 & 0.0014691 & 0.0014081 & 0.0014622 & 0.0014407 & $\\dots$ \\\\\n",
       "\t8 & 0.0012798 & 0.0012928 & 0.0013178 & 0.0012946 & 0.0012868 & 0.0012818 & 0.0012071 & $\\dots$ \\\\\n",
       "\t9 & 0.0021188 & 0.0020523 & 0.0020701 & 0.0021076 & 0.0021367 & 0.0021655 & 0.002148 & $\\dots$ \\\\\n",
       "\t10 & 0.0017022 & 0.001717 & 0.0017401 & 0.0017533 & 0.0017447 & 0.0017625 & 0.0017747 & $\\dots$ \\\\\n",
       "\t11 & 0.0019773 & 0.0019798 & 0.001978 & 0.0019738 & 0.0019702 & 0.0019615 & 0.0019443 & $\\dots$ \\\\\n",
       "\t12 & 0.0024066 & 0.0023201 & 0.002459 & 0.0028447 & 0.0029765 & 0.0032274 & 0.0027906 & $\\dots$ \\\\\n",
       "\t13 & 0.0033243 & 0.0034409 & 0.0038089 & 0.0041491 & 0.0040123 & 0.0031882 & 0.0034723 & $\\dots$ \\\\\n",
       "\t14 & 0.0032745 & 0.0031495 & 0.0033884 & 0.0032852 & 0.0032291 & 0.0038211 & 0.0033904 & $\\dots$ \\\\\n",
       "\t15 & 0.0015853 & 0.0015536 & 0.0015606 & 0.0015922 & 0.0016143 & 0.0016375 & 0.0016501 & $\\dots$ \\\\\n",
       "\t16 & 0.00099898 & 0.0010259 & 0.00098256 & 0.0010078 & 0.00098123 & 0.0010044 & 0.0010122 & $\\dots$ \\\\\n",
       "\t17 & 0.0010831 & 0.0010666 & 0.0010653 & 0.0010738 & 0.0010688 & 0.0010815 & 0.0010843 & $\\dots$ \\\\\n",
       "\t18 & 0.0013464 & 0.0013693 & 0.0013644 & 0.0013483 & 0.0013598 & 0.0013679 & 0.001355 & $\\dots$ \\\\\n",
       "\t19 & 0.0030118 & 0.0029538 & 0.0030268 & 0.0030949 & 0.0031327 & 0.0030987 & 0.0030982 & $\\dots$ \\\\\n",
       "\t20 & 0.0031513 & 0.0031355 & 0.0031591 & 0.0032074 & 0.0032153 & 0.0031768 & 0.0031921 & $\\dots$ \\\\\n",
       "\t21 & 0.0014498 & 0.0014685 & 0.0014919 & 0.0014685 & 0.0014657 & 0.0014584 & 0.0014609 & $\\dots$ \\\\\n",
       "\t22 & 0.0020936 & 0.0020269 & 0.0020435 & 0.0020562 & 0.0020943 & 0.0020481 & 0.0020146 & $\\dots$ \\\\\n",
       "\t23 & 0.0029056 & 0.0028793 & 0.0031798 & 0.0038379 & 0.0037285 & 0.0029268 & 0.0029451 & $\\dots$ \\\\\n",
       "\t24 & 0.0030068 & 0.0025129 & 0.0027003 & 0.0028909 & 0.0032936 & 0.0033545 & 0.00337 & $\\dots$ \\\\\n",
       "\t25 & 0.0033158 & 0.0028298 & 0.0029262 & 0.003172 & 0.0032344 & 0.003238 & 0.0031666 & $\\dots$ \\\\\n",
       "\t26 & 0.0028298 & 0.0026204 & 0.0026391 & 0.0027701 & 0.0030538 & 0.0034662 & 0.0035064 & $\\dots$ \\\\\n",
       "\t27 & 0.0014177 & 0.0013517 & 0.0013704 & 0.0015116 & 0.0016175 & 0.0017032 & 0.0017347 & $\\dots$ \\\\\n",
       "\t28 & 0.0033004 & 0.0030169 & 0.003053 & 0.0032181 & 0.0033388 & 0.0033955 & 0.0033394 & $\\dots$ \\\\\n",
       "\t29 & 0.0035553 & 0.0032189 & 0.0034419 & 0.0036197 & 0.0036622 & 0.0035295 & 0.0035522 & $\\dots$ \\\\\n",
       "\t30 & 0.00095096 & 0.00094419 & 0.00092686 & 0.00092377 & 0.00093352 & 0.00093545 & 0.00093721 & $\\dots$ \\\\\n",
       "\t$\\dots$ & $\\dots$ & $\\dots$ & $\\dots$ & $\\dots$ & $\\dots$ & $\\dots$ & $\\dots$ &  \\\\\n",
       "\\end{tabular}\n"
      ],
      "text/plain": [
       "97×1701 DataFrame. Omitted printing of 1695 columns\n",
       "│ Row │ 0.0021852 │ 0.0019767 │ 0.0021323 │ 0.002083  │ 0.002128  │ 0.0020801 │\n",
       "│     │ \u001b[90mFloat64\u001b[39m   │ \u001b[90mFloat64\u001b[39m   │ \u001b[90mFloat64\u001b[39m   │ \u001b[90mFloat64\u001b[39m   │ \u001b[90mFloat64\u001b[39m   │ \u001b[90mFloat64\u001b[39m   │\n",
       "├─────┼───────────┼───────────┼───────────┼───────────┼───────────┼───────────┤\n",
       "│ 1   │ 0.0020532 │ 0.0020592 │ 0.0019389 │ 0.0019826 │ 0.0020884 │ 0.0019476 │\n",
       "│ 2   │ 0.0020355 │ 0.0019963 │ 0.0019883 │ 0.0019803 │ 0.0019807 │ 0.0019642 │\n",
       "│ 3   │ 0.0028881 │ 0.002791  │ 0.0028081 │ 0.0028237 │ 0.0027931 │ 0.0027793 │\n",
       "│ 4   │ 0.0020664 │ 0.0020163 │ 0.002118  │ 0.002078  │ 0.0020437 │ 0.0019928 │\n",
       "│ 5   │ 0.0028604 │ 0.0028406 │ 0.0029031 │ 0.0030831 │ 0.003297  │ 0.0034535 │\n",
       "│ 6   │ 0.0025947 │ 0.0026209 │ 0.0026177 │ 0.002662  │ 0.0026989 │ 0.0026754 │\n",
       "│ 7   │ 0.0014313 │ 0.0013991 │ 0.0014207 │ 0.0014691 │ 0.0014081 │ 0.0014622 │\n",
       "│ 8   │ 0.0012798 │ 0.0012928 │ 0.0013178 │ 0.0012946 │ 0.0012868 │ 0.0012818 │\n",
       "│ 9   │ 0.0021188 │ 0.0020523 │ 0.0020701 │ 0.0021076 │ 0.0021367 │ 0.0021655 │\n",
       "│ 10  │ 0.0017022 │ 0.001717  │ 0.0017401 │ 0.0017533 │ 0.0017447 │ 0.0017625 │\n",
       "⋮\n",
       "│ 87  │ 0.0018552 │ 0.0018802 │ 0.0019308 │ 0.0020016 │ 0.002012  │ 0.0019912 │\n",
       "│ 88  │ 0.0015049 │ 0.0015152 │ 0.0015089 │ 0.001516  │ 0.001501  │ 0.0014916 │\n",
       "│ 89  │ 0.0024409 │ 0.0023381 │ 0.0023646 │ 0.0022414 │ 0.0022475 │ 0.0022914 │\n",
       "│ 90  │ 0.0027007 │ 0.0025825 │ 0.0026046 │ 0.0026617 │ 0.0025843 │ 0.0025921 │\n",
       "│ 91  │ 0.0013629 │ 0.0013387 │ 0.0013491 │ 0.0013393 │ 0.0013508 │ 0.001361  │\n",
       "│ 92  │ 0.0041    │ 0.0040282 │ 0.0040317 │ 0.004122  │ 0.0041586 │ 0.0042511 │\n",
       "│ 93  │ 0.0023732 │ 0.0023731 │ 0.0024071 │ 0.0024766 │ 0.0024736 │ 0.0024801 │\n",
       "│ 94  │ 0.0030973 │ 0.0030084 │ 0.0030047 │ 0.0030695 │ 0.0031135 │ 0.0030654 │\n",
       "│ 95  │ 0.0029837 │ 0.0030213 │ 0.0029216 │ 0.0030449 │ 0.003096  │ 0.0031279 │\n",
       "│ 96  │ 0.0032064 │ 0.0032476 │ 0.0032313 │ 0.0032106 │ 0.0032531 │ 0.003262  │\n",
       "│ 97  │ 0.0037707 │ 0.0037322 │ 0.0037986 │ 0.003879  │ 0.0038098 │ 0.0039072 │"
      ]
     },
     "execution_count": 9,
     "metadata": {},
     "output_type": "execute_result"
    }
   ],
   "source": [
    "hazs = CSV.read(\"/Users/lilis/Dropbox (MIT)/1 ASSAD LAB/Papers/1 DA and Timing/April 2020/eLife/Revision/3-4-21 Full DA Hx and Hazard COPY/fithazards.csv\")"
   ]
  },
  {
   "cell_type": "code",
   "execution_count": 12,
   "metadata": {},
   "outputs": [
    {
     "name": "stderr",
     "output_type": "stream",
     "text": [
      "┌ Info: Precompiling MAT [23992714-dd62-5051-b70f-ba57cb901cac]\n",
      "└ @ Base loading.jl:1278\n"
     ]
    }
   ],
   "source": [
    "using MAT"
   ]
  },
  {
   "cell_type": "code",
   "execution_count": 29,
   "metadata": {},
   "outputs": [],
   "source": [
    "close(file)"
   ]
  },
  {
   "cell_type": "code",
   "execution_count": 27,
   "metadata": {},
   "outputs": [
    {
     "data": {
      "text/plain": [
       "MAT.MAT_HDF5.MatlabHDF5File(HDF5.File: (read-write) /Users/lilis/Dropbox (MIT)/1 ASSAD LAB/Papers/1 DA and Timing/April 2020/eLife/Revision/3-4-21 Full DA Hx and Hazard COPY/hazs.mat, true, true, 0, false)"
      ]
     },
     "execution_count": 27,
     "metadata": {},
     "output_type": "execute_result"
    }
   ],
   "source": [
    "file = matopen(\"/Users/lilis/Dropbox (MIT)/1 ASSAD LAB/Papers/1 DA and Timing/April 2020/eLife/Revision/3-4-21 Full DA Hx and Hazard COPY/hazs.mat\", \"w\")"
   ]
  },
  {
   "cell_type": "code",
   "execution_count": 28,
   "metadata": {},
   "outputs": [
    {
     "data": {
      "text/plain": [
       "Dict{String,Any}()"
      ]
     },
     "execution_count": 28,
     "metadata": {},
     "output_type": "execute_result"
    }
   ],
   "source": [
    "read(file)"
   ]
  },
  {
   "cell_type": "code",
   "execution_count": 32,
   "metadata": {},
   "outputs": [
    {
     "data": {
      "text/plain": [
       "Dict{String,Any} with 1 entry:\n",
       "  \"hazs\" => [0.00218523 0.00197673 … NaN NaN; 0.0020532 0.00205924 … NaN NaN; ……"
      ]
     },
     "execution_count": 32,
     "metadata": {},
     "output_type": "execute_result"
    }
   ],
   "source": [
    "vars = matread(\"/Users/lilis/Dropbox (MIT)/1 ASSAD LAB/Papers/1 DA and Timing/April 2020/eLife/Revision/3-4-21 Full DA Hx and Hazard COPY/hazs.mat\")"
   ]
  },
  {
   "cell_type": "code",
   "execution_count": 43,
   "metadata": {},
   "outputs": [
    {
     "ename": "LoadError",
     "evalue": "KeyError: key :hazs not found",
     "output_type": "error",
     "traceback": [
      "KeyError: key :hazs not found",
      "",
      "Stacktrace:",
      " [1] getindex(::Dict{String,Any}, ::Symbol) at ./dict.jl:467",
      " [2] top-level scope at In[43]:1",
      " [3] include_string(::Function, ::Module, ::String, ::String) at ./loading.jl:1091"
     ]
    }
   ],
   "source": [
    "vars[:hazs]"
   ]
  },
  {
   "cell_type": "code",
   "execution_count": 24,
   "metadata": {},
   "outputs": [
    {
     "ename": "LoadError",
     "evalue": "Only Dicts with string keys may be saved as MATLAB structs",
     "output_type": "error",
     "traceback": [
      "Only Dicts with string keys may be saved as MATLAB structs",
      "",
      "Stacktrace:",
      " [1] error(::String) at ./error.jl:33",
      " [2] check_struct_keys at /Users/lilis/.julia/packages/MAT/f523T/src/MAT_HDF5.jl:505 [inlined]",
      " [3] m_write(::MAT.MAT_HDF5.MatlabHDF5File, ::HDF5.Group, ::String, ::Dict{Symbol,Int64}) at /Users/lilis/.julia/packages/MAT/f523T/src/MAT_HDF5.jl:524",
      " [4] m_write(::MAT.MAT_HDF5.MatlabHDF5File, ::HDF5.Group, ::String, ::Array{String,1}, ::Array{Any,1}) at /Users/lilis/.julia/packages/MAT/f523T/src/MAT_HDF5.jl:518",
      " [5] m_write(::MAT.MAT_HDF5.MatlabHDF5File, ::HDF5.Group, ::String, ::DataFrames.Index) at /Users/lilis/.julia/packages/MAT/f523T/src/MAT_HDF5.jl:533",
      " [6] m_write(::MAT.MAT_HDF5.MatlabHDF5File, ::HDF5.File, ::String, ::Array{String,1}, ::Array{Any,1}) at /Users/lilis/.julia/packages/MAT/f523T/src/MAT_HDF5.jl:518",
      " [7] m_write(::MAT.MAT_HDF5.MatlabHDF5File, ::HDF5.File, ::String, ::DataFrame) at /Users/lilis/.julia/packages/MAT/f523T/src/MAT_HDF5.jl:533",
      " [8] write(::MAT.MAT_HDF5.MatlabHDF5File, ::String, ::DataFrame) at /Users/lilis/.julia/packages/MAT/f523T/src/MAT_HDF5.jl:546",
      " [9] top-level scope at In[24]:1",
      " [10] include_string(::Function, ::Module, ::String, ::String) at ./loading.jl:1091"
     ]
    }
   ],
   "source": [
    "write(file, \"hazs\", hazs)\n",
    "close(file)"
   ]
  },
  {
   "cell_type": "code",
   "execution_count": 20,
   "metadata": {},
   "outputs": [
    {
     "name": "stdout",
     "output_type": "stream",
     "text": [
      "thread = 1 warning: parsed expected 1 columns, but didn't reach end of line on data row: 1. Ignoring any extra columns on this row\n",
      "thread = 1 warning: parsed expected 1 columns, but didn't reach end of line on data row: 2. Ignoring any extra columns on this row\n",
      "thread = 1 warning: parsed expected 1 columns, but didn't reach end of line on data row: 3. Ignoring any extra columns on this row\n",
      "thread = 1 warning: parsed expected 1 columns, but didn't reach end of line on data row: 4. Ignoring any extra columns on this row\n",
      "thread = 1 warning: parsed expected 1 columns, but didn't reach end of line on data row: 5. Ignoring any extra columns on this row\n",
      "thread = 1 warning: parsed expected 1 columns, but didn't reach end of line on data row: 6. Ignoring any extra columns on this row\n",
      "thread = 1 warning: parsed expected 1 columns, but didn't reach end of line on data row: 7. Ignoring any extra columns on this row\n",
      "thread = 1 warning: parsed expected 1 columns, but didn't reach end of line on data row: 8. Ignoring any extra columns on this row\n",
      "thread = 1 warning: parsed expected 1 columns, but didn't reach end of line on data row: 9. Ignoring any extra columns on this row\n",
      "thread = 1 warning: parsed expected 1 columns, but didn't reach end of line on data row: 10. Ignoring any extra columns on this row\n",
      "thread = 1 warning: parsed expected 1 columns, but didn't reach end of line on data row: 11. Ignoring any extra columns on this row\n",
      "thread = 1 warning: parsed expected 1 columns, but didn't reach end of line on data row: 12. Ignoring any extra columns on this row\n",
      "thread = 1 warning: parsed expected 1 columns, but didn't reach end of line on data row: 13. Ignoring any extra columns on this row\n",
      "thread = 1 warning: parsed expected 1 columns, but didn't reach end of line on data row: 14. Ignoring any extra columns on this row\n",
      "thread = 1 warning: parsed expected 1 columns, but didn't reach end of line on data row: 15. Ignoring any extra columns on this row\n",
      "thread = 1 warning: parsed expected 1 columns, but didn't reach end of line on data row: 16. Ignoring any extra columns on this row\n",
      "thread = 1 warning: parsed expected 1 columns, but didn't reach end of line on data row: 17. Ignoring any extra columns on this row\n",
      "thread = 1 warning: parsed expected 1 columns, but didn't reach end of line on data row: 18. Ignoring any extra columns on this row\n",
      "thread = 1 warning: parsed expected 1 columns, but didn't reach end of line on data row: 19. Ignoring any extra columns on this row\n",
      "thread = 1 warning: parsed expected 1 columns, but didn't reach end of line on data row: 20. Ignoring any extra columns on this row\n",
      "thread = 1 warning: parsed expected 1 columns, but didn't reach end of line on data row: 21. Ignoring any extra columns on this row\n",
      "thread = 1 warning: parsed expected 1 columns, but didn't reach end of line on data row: 22. Ignoring any extra columns on this row\n",
      "thread = 1 warning: parsed expected 1 columns, but didn't reach end of line on data row: 23. Ignoring any extra columns on this row\n",
      "thread = 1 warning: parsed expected 1 columns, but didn't reach end of line on data row: 24. Ignoring any extra columns on this row\n",
      "thread = 1 warning: parsed expected 1 columns, but didn't reach end of line on data row: 25. Ignoring any extra columns on this row\n",
      "thread = 1 warning: parsed expected 1 columns, but didn't reach end of line on data row: 26. Ignoring any extra columns on this row\n",
      "thread = 1 warning: parsed expected 1 columns, but didn't reach end of line on data row: 27. Ignoring any extra columns on this row\n",
      "thread = 1 warning: parsed expected 1 columns, but didn't reach end of line on data row: 28. Ignoring any extra columns on this row\n",
      "thread = 1 warning: parsed expected 1 columns, but didn't reach end of line on data row: 29. Ignoring any extra columns on this row\n",
      "thread = 1 warning: parsed expected 1 columns, but didn't reach end of line on data row: 30. Ignoring any extra columns on this row\n",
      "thread = 1 warning: parsed expected 1 columns, but didn't reach end of line on data row: 31. Ignoring any extra columns on this row\n",
      "thread = 1 warning: parsed expected 1 columns, but didn't reach end of line on data row: 32. Ignoring any extra columns on this row\n",
      "thread = 1 warning: parsed expected 1 columns, but didn't reach end of line on data row: 33. Ignoring any extra columns on this row\n",
      "thread = 1 warning: parsed expected 1 columns, but didn't reach end of line on data row: 34. Ignoring any extra columns on this row\n",
      "thread = 1 warning: parsed expected 1 columns, but didn't reach end of line on data row: 35. Ignoring any extra columns on this row\n",
      "thread = 1 warning: parsed expected 1 columns, but didn't reach end of line on data row: 36. Ignoring any extra columns on this row\n",
      "thread = 1 warning: parsed expected 1 columns, but didn't reach end of line on data row: 37. Ignoring any extra columns on this row\n",
      "thread = 1 warning: parsed expected 1 columns, but didn't reach end of line on data row: 38. Ignoring any extra columns on this row\n",
      "thread = 1 warning: parsed expected 1 columns, but didn't reach end of line on data row: 39. Ignoring any extra columns on this row\n",
      "thread = 1 warning: parsed expected 1 columns, but didn't reach end of line on data row: 40. Ignoring any extra columns on this row\n",
      "thread = 1 warning: parsed expected 1 columns, but didn't reach end of line on data row: 41. Ignoring any extra columns on this row\n",
      "thread = 1 warning: parsed expected 1 columns, but didn't reach end of line on data row: 42. Ignoring any extra columns on this row\n",
      "thread = 1 warning: parsed expected 1 columns, but didn't reach end of line on data row: 43. Ignoring any extra columns on this row\n",
      "thread = 1 warning: parsed expected 1 columns, but didn't reach end of line on data row: 44. Ignoring any extra columns on this row\n",
      "thread = 1 warning: parsed expected 1 columns, but didn't reach end of line on data row: 45. Ignoring any extra columns on this row\n",
      "thread = 1 warning: parsed expected 1 columns, but didn't reach end of line on data row: 46. Ignoring any extra columns on this row\n",
      "thread = 1 warning: parsed expected 1 columns, but didn't reach end of line on data row: 47. Ignoring any extra columns on this row\n",
      "thread = 1 warning: parsed expected 1 columns, but didn't reach end of line on data row: 48. Ignoring any extra columns on this row\n",
      "thread = 1 warning: parsed expected 1 columns, but didn't reach end of line on data row: 49. Ignoring any extra columns on this row\n",
      "thread = 1 warning: parsed expected 1 columns, but didn't reach end of line on data row: 50. Ignoring any extra columns on this row\n",
      "thread = 1 warning: parsed expected 1 columns, but didn't reach end of line on data row: 51. Ignoring any extra columns on this row\n",
      "thread = 1 warning: parsed expected 1 columns, but didn't reach end of line on data row: 52. Ignoring any extra columns on this row\n",
      "thread = 1 warning: parsed expected 1 columns, but didn't reach end of line on data row: 53. Ignoring any extra columns on this row\n",
      "thread = 1 warning: parsed expected 1 columns, but didn't reach end of line on data row: 54. Ignoring any extra columns on this row\n",
      "thread = 1 warning: parsed expected 1 columns, but didn't reach end of line on data row: 55. Ignoring any extra columns on this row\n",
      "thread = 1 warning: parsed expected 1 columns, but didn't reach end of line on data row: 56. Ignoring any extra columns on this row\n",
      "thread = 1 warning: parsed expected 1 columns, but didn't reach end of line on data row: 57. Ignoring any extra columns on this row\n",
      "thread = 1 warning: parsed expected 1 columns, but didn't reach end of line on data row: 58. Ignoring any extra columns on this row\n",
      "thread = 1 warning: parsed expected 1 columns, but didn't reach end of line on data row: 59. Ignoring any extra columns on this row\n",
      "thread = 1 warning: parsed expected 1 columns, but didn't reach end of line on data row: 60. Ignoring any extra columns on this row\n",
      "thread = 1 warning: parsed expected 1 columns, but didn't reach end of line on data row: 61. Ignoring any extra columns on this row\n",
      "thread = 1 warning: parsed expected 1 columns, but didn't reach end of line on data row: 62. Ignoring any extra columns on this row\n",
      "thread = 1 warning: parsed expected 1 columns, but didn't reach end of line on data row: 63. Ignoring any extra columns on this row\n",
      "thread = 1 warning: parsed expected 1 columns, but didn't reach end of line on data row: 64. Ignoring any extra columns on this row\n",
      "thread = 1 warning: parsed expected 1 columns, but didn't reach end of line on data row: 65. Ignoring any extra columns on this row\n",
      "thread = 1 warning: parsed expected 1 columns, but didn't reach end of line on data row: 66. Ignoring any extra columns on this row\n",
      "thread = 1 warning: parsed expected 1 columns, but didn't reach end of line on data row: 67. Ignoring any extra columns on this row\n",
      "thread = 1 warning: parsed expected 1 columns, but didn't reach end of line on data row: 68. Ignoring any extra columns on this row\n",
      "thread = 1 warning: parsed expected 1 columns, but didn't reach end of line on data row: 69. Ignoring any extra columns on this row\n",
      "thread = 1 warning: parsed expected 1 columns, but didn't reach end of line on data row: 70. Ignoring any extra columns on this row\n",
      "thread = 1 warning: parsed expected 1 columns, but didn't reach end of line on data row: 71. Ignoring any extra columns on this row\n",
      "thread = 1 warning: parsed expected 1 columns, but didn't reach end of line on data row: 72. Ignoring any extra columns on this row\n",
      "thread = 1 warning: parsed expected 1 columns, but didn't reach end of line on data row: 73. Ignoring any extra columns on this row\n",
      "thread = 1 warning: parsed expected 1 columns, but didn't reach end of line on data row: 74. Ignoring any extra columns on this row\n",
      "thread = 1 warning: parsed expected 1 columns, but didn't reach end of line on data row: 75. Ignoring any extra columns on this row\n",
      "thread = 1 warning: parsed expected 1 columns, but didn't reach end of line on data row: 76. Ignoring any extra columns on this row\n",
      "thread = 1 warning: parsed expected 1 columns, but didn't reach end of line on data row: 77. Ignoring any extra columns on this row\n",
      "thread = 1 warning: parsed expected 1 columns, but didn't reach end of line on data row: 78. Ignoring any extra columns on this row\n"
     ]
    },
    {
     "name": "stdout",
     "output_type": "stream",
     "text": [
      "thread = 1 warning: parsed expected 1 columns, but didn't reach end of line on data row: 79. Ignoring any extra columns on this row\n",
      "thread = 1 warning: parsed expected 1 columns, but didn't reach end of line on data row: 80. Ignoring any extra columns on this row\n",
      "thread = 1 warning: parsed expected 1 columns, but didn't reach end of line on data row: 81. Ignoring any extra columns on this row\n",
      "thread = 1 warning: parsed expected 1 columns, but didn't reach end of line on data row: 82. Ignoring any extra columns on this row\n",
      "thread = 1 warning: parsed expected 1 columns, but didn't reach end of line on data row: 83. Ignoring any extra columns on this row\n",
      "thread = 1 warning: parsed expected 1 columns, but didn't reach end of line on data row: 84. Ignoring any extra columns on this row\n",
      "thread = 1 warning: parsed expected 1 columns, but didn't reach end of line on data row: 85. Ignoring any extra columns on this row\n",
      "thread = 1 warning: parsed expected 1 columns, but didn't reach end of line on data row: 86. Ignoring any extra columns on this row\n",
      "thread = 1 warning: parsed expected 1 columns, but didn't reach end of line on data row: 87. Ignoring any extra columns on this row\n",
      "thread = 1 warning: parsed expected 1 columns, but didn't reach end of line on data row: 88. Ignoring any extra columns on this row\n",
      "thread = 1 warning: parsed expected 1 columns, but didn't reach end of line on data row: 89. Ignoring any extra columns on this row\n",
      "thread = 1 warning: parsed expected 1 columns, but didn't reach end of line on data row: 90. Ignoring any extra columns on this row\n",
      "thread = 1 warning: parsed expected 1 columns, but didn't reach end of line on data row: 91. Ignoring any extra columns on this row\n",
      "thread = 1 warning: parsed expected 1 columns, but didn't reach end of line on data row: 92. Ignoring any extra columns on this row\n",
      "thread = 1 warning: parsed expected 1 columns, but didn't reach end of line on data row: 93. Ignoring any extra columns on this row\n",
      "thread = 1 warning: parsed expected 1 columns, but didn't reach end of line on data row: 94. Ignoring any extra columns on this row\n",
      "thread = 1 warning: parsed expected 1 columns, but didn't reach end of line on data row: 95. Ignoring any extra columns on this row\n",
      "thread = 1 warning: parsed expected 1 columns, but didn't reach end of line on data row: 96. Ignoring any extra columns on this row\n",
      "thread = 1 warning: parsed expected 1 columns, but didn't reach end of line on data row: 97. Ignoring any extra columns on this row\n",
      "thread = 1 warning: parsed expected 1 columns, but didn't reach end of line on data row: 98. Ignoring any extra columns on this row\n"
     ]
    },
    {
     "data": {
      "text/html": [
       "<table class=\"data-frame\"><thead><tr><th></th><th>hazs</th></tr><tr><th></th><th>String</th></tr></thead><tbody><p>98 rows × 1 columns</p><tr><th>1</th><td>[0.0021852343029940464;</td></tr><tr><th>2</th><td>[0.0020531977762314113;</td></tr><tr><th>3</th><td>[0.002035500242026074;</td></tr><tr><th>4</th><td>[0.0028881473549186667;</td></tr><tr><th>5</th><td>[0.0020664116137428796;</td></tr><tr><th>6</th><td>[0.0028604442874860243;</td></tr><tr><th>7</th><td>[0.002594650597845727;</td></tr><tr><th>8</th><td>[0.001431273857451148;</td></tr><tr><th>9</th><td>[0.00127978795007902;</td></tr><tr><th>10</th><td>[0.0021187659372613444;</td></tr><tr><th>11</th><td>[0.0017021688024372846;</td></tr><tr><th>12</th><td>[0.001977314468947194;</td></tr><tr><th>13</th><td>[0.0024065516608866066;</td></tr><tr><th>14</th><td>[0.003324327671183899;</td></tr><tr><th>15</th><td>[0.0032745389836038355;</td></tr><tr><th>16</th><td>[0.001585290286290029;</td></tr><tr><th>17</th><td>[0.0009989785394438544;</td></tr><tr><th>18</th><td>[0.0010830769259929712;</td></tr><tr><th>19</th><td>[0.0013464338564493949;</td></tr><tr><th>20</th><td>[0.0030117977831950467;</td></tr><tr><th>21</th><td>[0.003151325417938015;</td></tr><tr><th>22</th><td>[0.001449841694971402;</td></tr><tr><th>23</th><td>[0.0020936185306040704;</td></tr><tr><th>24</th><td>[0.0029055933008032666;</td></tr><tr><th>25</th><td>[0.003006848388164428;</td></tr><tr><th>26</th><td>[0.003315772749020009;</td></tr><tr><th>27</th><td>[0.0028297772396365627;</td></tr><tr><th>28</th><td>[0.0014176932952005878;</td></tr><tr><th>29</th><td>[0.0033003976827439036;</td></tr><tr><th>30</th><td>[0.003555277188901262;</td></tr><tr><th>&vellip;</th><td>&vellip;</td></tr></tbody></table>"
      ],
      "text/latex": [
       "\\begin{tabular}{r|c}\n",
       "\t& hazs\\\\\n",
       "\t\\hline\n",
       "\t& String\\\\\n",
       "\t\\hline\n",
       "\t1 & [0.0021852343029940464; \\\\\n",
       "\t2 & [0.0020531977762314113; \\\\\n",
       "\t3 & [0.002035500242026074; \\\\\n",
       "\t4 & [0.0028881473549186667; \\\\\n",
       "\t5 & [0.0020664116137428796; \\\\\n",
       "\t6 & [0.0028604442874860243; \\\\\n",
       "\t7 & [0.002594650597845727; \\\\\n",
       "\t8 & [0.001431273857451148; \\\\\n",
       "\t9 & [0.00127978795007902; \\\\\n",
       "\t10 & [0.0021187659372613444; \\\\\n",
       "\t11 & [0.0017021688024372846; \\\\\n",
       "\t12 & [0.001977314468947194; \\\\\n",
       "\t13 & [0.0024065516608866066; \\\\\n",
       "\t14 & [0.003324327671183899; \\\\\n",
       "\t15 & [0.0032745389836038355; \\\\\n",
       "\t16 & [0.001585290286290029; \\\\\n",
       "\t17 & [0.0009989785394438544; \\\\\n",
       "\t18 & [0.0010830769259929712; \\\\\n",
       "\t19 & [0.0013464338564493949; \\\\\n",
       "\t20 & [0.0030117977831950467; \\\\\n",
       "\t21 & [0.003151325417938015; \\\\\n",
       "\t22 & [0.001449841694971402; \\\\\n",
       "\t23 & [0.0020936185306040704; \\\\\n",
       "\t24 & [0.0029055933008032666; \\\\\n",
       "\t25 & [0.003006848388164428; \\\\\n",
       "\t26 & [0.003315772749020009; \\\\\n",
       "\t27 & [0.0028297772396365627; \\\\\n",
       "\t28 & [0.0014176932952005878; \\\\\n",
       "\t29 & [0.0033003976827439036; \\\\\n",
       "\t30 & [0.003555277188901262; \\\\\n",
       "\t$\\dots$ & $\\dots$ \\\\\n",
       "\\end{tabular}\n"
      ],
      "text/plain": [
       "98×1 DataFrame\n",
       "│ Row │ hazs                    │\n",
       "│     │ \u001b[90mString\u001b[39m                  │\n",
       "├─────┼─────────────────────────┤\n",
       "│ 1   │ [0.0021852343029940464; │\n",
       "│ 2   │ [0.0020531977762314113; │\n",
       "│ 3   │ [0.002035500242026074;  │\n",
       "│ 4   │ [0.0028881473549186667; │\n",
       "│ 5   │ [0.0020664116137428796; │\n",
       "│ 6   │ [0.0028604442874860243; │\n",
       "│ 7   │ [0.002594650597845727;  │\n",
       "│ 8   │ [0.001431273857451148;  │\n",
       "│ 9   │ [0.00127978795007902;   │\n",
       "│ 10  │ [0.0021187659372613444; │\n",
       "⋮\n",
       "│ 88  │ [0.0018552189308555368; │\n",
       "│ 89  │ [0.0015048815029471644; │\n",
       "│ 90  │ [0.002440858818429807;  │\n",
       "│ 91  │ [0.0027007402438816285; │\n",
       "│ 92  │ [0.0013629140672676277; │\n",
       "│ 93  │ [0.004099969597045796;  │\n",
       "│ 94  │ [0.002373221111557797;  │\n",
       "│ 95  │ [0.0030973396822234806; │\n",
       "│ 96  │ [0.002983682917600539;  │\n",
       "│ 97  │ [0.003206374918871312;  │\n",
       "│ 98  │ [0.003770744066160661;  │"
      ]
     },
     "execution_count": 20,
     "metadata": {},
     "output_type": "execute_result"
    }
   ],
   "source": [
    "hazs = CSV.read(\"/Users/lilis/Dropbox (MIT)/1 ASSAD LAB/Papers/1 DA and Timing/April 2020/eLife/Revision/3-4-21 Full DA Hx and Hazard COPY/COMPOSITE98_haz_hazs.csv\")"
   ]
  },
  {
   "cell_type": "code",
   "execution_count": 47,
   "metadata": {},
   "outputs": [],
   "source": [
    "file = matopen(\"/Users/lilis/Dropbox (MIT)/1 ASSAD LAB/Papers/1 DA and Timing/April 2020/eLife/Revision/3-4-21 Full DA Hx and Hazard COPY/hazs.mat\")\n",
    "hazs = read(file, \"hazs\") # note that this does NOT introduce a variable ``varname`` into scope\n",
    "close(file)"
   ]
  },
  {
   "cell_type": "code",
   "execution_count": 49,
   "metadata": {},
   "outputs": [
    {
     "data": {
      "text/plain": [
       "98×1701 Array{Float64,2}:\n",
       " 0.00218523  0.00197673  0.00213225  …  NaN  NaN  NaN  NaN  NaN  NaN  NaN\n",
       " 0.0020532   0.00205924  0.00193892     NaN  NaN  NaN  NaN  NaN  NaN  NaN\n",
       " 0.0020355   0.00199626  0.0019883      NaN  NaN  NaN  NaN  NaN  NaN  NaN\n",
       " 0.00288815  0.00279097  0.00280814     NaN  NaN  NaN  NaN  NaN  NaN  NaN\n",
       " 0.00206641  0.00201629  0.00211802     NaN  NaN  NaN  NaN  NaN  NaN  NaN\n",
       " 0.00286044  0.00284063  0.00290313  …  NaN  NaN  NaN  NaN  NaN  NaN  NaN\n",
       " 0.00259465  0.00262091  0.00261774     NaN  NaN  NaN  NaN  NaN  NaN  NaN\n",
       " 0.00143127  0.00139911  0.00142065     NaN  NaN  NaN  NaN  NaN  NaN  NaN\n",
       " 0.00127979  0.00129283  0.00131776     NaN  NaN  NaN  NaN  NaN  NaN  NaN\n",
       " 0.00211877  0.00205226  0.00207007     NaN  NaN  NaN  NaN  NaN  NaN  NaN\n",
       " 0.00170217  0.00171702  0.00174008  …  NaN  NaN  NaN  NaN  NaN  NaN  NaN\n",
       " 0.00197731  0.00197978  0.00197802     NaN  NaN  NaN  NaN  NaN  NaN  NaN\n",
       " 0.00240655  0.00232005  0.00245898     NaN  NaN  NaN  NaN  NaN  NaN  NaN\n",
       " ⋮                                   ⋱         ⋮                        ⋮\n",
       " 0.00218638  0.00219637  0.00225499     NaN  NaN  NaN  NaN  NaN  NaN  NaN\n",
       " 0.00185522  0.00188022  0.00193085     NaN  NaN  NaN  NaN  NaN  NaN  NaN\n",
       " 0.00150488  0.00151523  0.00150886     NaN  NaN  NaN  NaN  NaN  NaN  NaN\n",
       " 0.00244086  0.00233807  0.00236463     NaN  NaN  NaN  NaN  NaN  NaN  NaN\n",
       " 0.00270074  0.00258254  0.00260463  …  NaN  NaN  NaN  NaN  NaN  NaN  NaN\n",
       " 0.00136291  0.00133875  0.00134913     NaN  NaN  NaN  NaN  NaN  NaN  NaN\n",
       " 0.00409997  0.00402818  0.00403168     NaN  NaN  NaN  NaN  NaN  NaN  NaN\n",
       " 0.00237322  0.00237309  0.00240714     NaN  NaN  NaN  NaN  NaN  NaN  NaN\n",
       " 0.00309734  0.00300842  0.00300471     NaN  NaN  NaN  NaN  NaN  NaN  NaN\n",
       " 0.00298368  0.00302129  0.00292155  …  NaN  NaN  NaN  NaN  NaN  NaN  NaN\n",
       " 0.00320637  0.00324757  0.00323133     NaN  NaN  NaN  NaN  NaN  NaN  NaN\n",
       " 0.00377074  0.00373215  0.00379857     NaN  NaN  NaN  NaN  NaN  NaN  NaN"
      ]
     },
     "execution_count": 49,
     "metadata": {},
     "output_type": "execute_result"
    }
   ],
   "source": [
    "hazs"
   ]
  },
  {
   "cell_type": "code",
   "execution_count": 50,
   "metadata": {},
   "outputs": [
    {
     "ename": "LoadError",
     "evalue": "BoundsError: attempt to access 0-element Array{Any,1} at index [1, 1]",
     "output_type": "error",
     "traceback": [
      "BoundsError: attempt to access 0-element Array{Any,1} at index [1, 1]",
      "",
      "Stacktrace:",
      " [1] getindex at ./array.jl:810 [inlined]",
      " [2] getindex at ./multidimensional.jl:557 [inlined]",
      " [3] haz_results_composite(::Array{Float64,2}, ::Array{Any,1}, ::Array{Any,1}; ndp_per_sample::Int64, normalize::Bool, figname::String, figurePath::String) at /Users/lilis/Documents/GitHub/HSOManalysisPackages/JuliaLanguage_Hierarchical_Models/function_library/hazard_modules.jl:235",
      " [4] top-level scope at In[50]:1",
      " [5] include_string(::Function, ::Module, ::String, ::String) at ./loading.jl:1091"
     ]
    }
   ],
   "source": [
    "haz_results_composite(hazs, [], []; ndp_per_sample=50, normalize=true, figname=\"\", figurePath=\"\")"
   ]
  },
  {
   "cell_type": "code",
   "execution_count": 67,
   "metadata": {},
   "outputs": [
    {
     "name": "stdout",
     "output_type": "stream",
     "text": [
      "Refreshed (2021-03-08_1714) GLMNet_tools.jl auto_pull_matlabdatasets.jl cluster_modules.jl feedback_modules.jl file_modules.jl hazard_modules.jl v 11:37\n",
      "math_modules.jl modeling_tools.jl plotting_tools.jl probabilistic_modules.jl "
     ]
    }
   ],
   "source": [
    "cd(\"/Users/lilis/Documents/GitHub/HSOManalysisPackages/JuliaLanguage_Hierarchical_Models\")\n",
    "include(join([pwd(), \"/function_library/file_modules.jl\"]))\n",
    "refresh_tools(\"function_library\")"
   ]
  },
  {
   "cell_type": "code",
   "execution_count": 88,
   "metadata": {},
   "outputs": [
    {
     "data": {
      "text/plain": [
       "bootCI (generic function with 2 methods)"
      ]
     },
     "execution_count": 88,
     "metadata": {},
     "output_type": "execute_result"
    }
   ],
   "source": [
    "function bootCI(Arr, nboot; a=0.05)\n",
    "    # replicates are in DIM 1\n",
    "    #\n",
    "    #  sample x datapoints, e.g., 98 animals x 5000 ms hazard\n",
    "    #\n",
    "    n = size(Arr)[2]\n",
    "    println(n)\n",
    "    reps = size(Arr)[1]\n",
    "    println(reps)\n",
    "    bootData = nanmat(nboot, n)\n",
    "    println(size(bootData))\n",
    "\n",
    "    # for iboot = 1:nboot\n",
    "    idxs = sample(1:reps,nboot)\n",
    "    println(size(idxs))\n",
    "    for i = 1:n\n",
    "        bootData[:,i] = Arr[idxs,i]\n",
    "    end\n",
    "    # end\n",
    "    ix_min = round(Int, nboot * a/2)\n",
    "    if ix_min < 1\n",
    "        ix_min = 1\n",
    "    end\n",
    "    ix_max = round(Int, nboot - nboot * a/2)\n",
    "    if ix_max < 1\n",
    "        ix_max = 1\n",
    "    end\n",
    "    \n",
    "    sortedBoot = sort(bootData, dims=1)\n",
    "    CImin = sortedBoot[ix_min, :]\n",
    "    CImax = sortedBoot[ix_max, :]\n",
    "\n",
    "    figure(figsize=(5,3))\n",
    "    plot(nanmean_mat(Arr, 1),\"k-\", linewidth=3)\n",
    "    plot(nanmean_mat(bootData, 1),\"r-\", linewidth=1)\n",
    "    plot(CImin,\"g-\", linewidth=1)\n",
    "    plot(CImax,\"g-\", linewidth=1)\n",
    "\n",
    "\n",
    "end"
   ]
  },
  {
   "cell_type": "code",
   "execution_count": 92,
   "metadata": {},
   "outputs": [
    {
     "data": {
      "image/png": "[encoded data removed]",
      "text/plain": [
       "Figure(PyObject <Figure size 500x300 with 1 Axes>)"
      ]
     },
     "metadata": {},
     "output_type": "display_data"
    },
    {
     "name": "stdout",
     "output_type": "stream",
     "text": [
      "1701\n",
      "98\n",
      "(1, 1701)\n",
      "(1,)\n"
     ]
    },
    {
     "data": {
      "text/plain": [
       "1-element Array{PyCall.PyObject,1}:\n",
       " PyObject <matplotlib.lines.Line2D object at 0x15e70d970>"
      ]
     },
     "execution_count": 92,
     "metadata": {},
     "output_type": "execute_result"
    }
   ],
   "source": [
    "bootCI(hazs, 2; a=0.05)"
   ]
  },
  {
   "cell_type": "code",
   "execution_count": 138,
   "metadata": {},
   "outputs": [
    {
     "data": {
      "text/plain": [
       "bootCI_excludenan (generic function with 1 method)"
      ]
     },
     "execution_count": 138,
     "metadata": {},
     "output_type": "execute_result"
    }
   ],
   "source": [
    "function bootCI_excludenan(Arr, nboot; a=0.05)\n",
    "    # replicates are in DIM 1 -- we will redraw if we get nans...\n",
    "    #\n",
    "    #  sample x datapoints, e.g., 98 animals x 5000 ms hazard\n",
    "    #\n",
    "    n_timepoints = size(Arr)[2]\n",
    "    reps = size(Arr)[1]\n",
    "    bootData = nanmat(nboot, n_timepoints)\n",
    "\n",
    "    # for iboot = 1:nboot\n",
    "    for i_timepoint = 1:n_timepoints\n",
    "        ixs = findall(x->!isnan(x),Arr[:,i_timepoint])\n",
    "#         println(length(ixs))\n",
    "        dataset = Arr[ixs,i_timepoint]\n",
    "#         println(size(dataset))\n",
    "        if !isempty(dataset)\n",
    "            println(size(bootData))\n",
    "            nn = length(dataset)\n",
    "            idxs = sample(1:nn,nboot)\n",
    "            bootData[:,i_timepoint] = dataset[idxs]\n",
    "        end\n",
    "    end\n",
    "        \n",
    "    \n",
    "    # end\n",
    "    ix_min = round(Int, nboot * a/2)\n",
    "    ix_max = round(Int, nboot - nboot * a/2)\n",
    "    sortedBoot = sort(bootData, dims=1)\n",
    "    CImin = sortedBoot[ix_min, :]\n",
    "    CImax = sortedBoot[ix_max, :]\n",
    "\n",
    "    figure(figsize=(5,3))\n",
    "    plot(nanmean_mat(Arr, 1),\"k-\", linewidth=3)\n",
    "    plot(nanmean_mat(bootData, 1),\"r-\", linewidth=1)\n",
    "    plot(CImin,\"g-\", linewidth=1)\n",
    "    plot(CImax,\"g-\", linewidth=1)\n",
    "\n",
    "\n",
    "end"
   ]
  },
  {
   "cell_type": "code",
   "execution_count": 139,
   "metadata": {},
   "outputs": [
    {
     "data": {
      "image/png": "[encoded data removed]",
      "text/plain": [
       "Figure(PyObject <Figure size 500x300 with 1 Axes>)"
      ]
     },
     "metadata": {},
     "output_type": "display_data"
    },
    {
     "name": "stdout",
     "output_type": "stream",
     "text": [
      "(1000, 1701)\n",
      "(1000, 1701)\n",
      "(1000, 1701)\n",
      "(1000, 1701)\n",
      "(1000, 1701)\n",
      "(1000, 1701)\n",
      "(1000, 1701)\n",
      "(1000, 1701)\n",
      "(1000, 1701)\n",
      "(1000, 1701)\n",
      "(1000, 1701)\n",
      "(1000, 1701)\n",
      "(1000, 1701)\n",
      "(1000, 1701)\n",
      "(1000, 1701)\n",
      "(1000, 1701)\n",
      "(1000, 1701)\n",
      "(1000, 1701)\n",
      "(1000, 1701)\n",
      "(1000, 1701)\n",
      "(1000, 1701)\n",
      "(1000, 1701)\n",
      "(1000, 1701)\n",
      "(1000, 1701)\n",
      "(1000, 1701)\n",
      "(1000, 1701)\n",
      "(1000, 1701)\n",
      "(1000, 1701)\n",
      "(1000, 1701)\n",
      "(1000, 1701)\n",
      "(1000, 1701)\n",
      "(1000, 1701)\n",
      "(1000, 1701)\n",
      "(1000, 1701)\n",
      "(1000, 1701)\n",
      "(1000, 1701)\n",
      "(1000, 1701)\n"
     ]
    },
    {
     "data": {
      "text/plain": [
       "1-element Array{PyCall.PyObject,1}:\n",
       " PyObject <matplotlib.lines.Line2D object at 0x1340841c0>"
      ]
     },
     "execution_count": 139,
     "metadata": {},
     "output_type": "execute_result"
    }
   ],
   "source": [
    "bootCI_excludenan(hazs, 1000; a=0.05)"
   ]
  },
  {
   "cell_type": "code",
   "execution_count": 140,
   "metadata": {
    "collapsed": true
   },
   "outputs": [
    {
     "data": {
      "text/html": [
       "<table class=\"data-frame\"><thead><tr><th></th><th>seshCodes</th></tr><tr><th></th><th>String</th></tr></thead><tbody><p>98 rows × 1 columns</p><tr><th>1</th><td>B1SNc13</td></tr><tr><th>2</th><td>B1SNc15</td></tr><tr><th>3</th><td>B1SNc18</td></tr><tr><th>4</th><td>B1SNc19</td></tr><tr><th>5</th><td>B1SNc20</td></tr><tr><th>6</th><td>B2SNc11</td></tr><tr><th>7</th><td>B2SNc15</td></tr><tr><th>8</th><td>B2SNc17</td></tr><tr><th>9</th><td>B2SNc18</td></tr><tr><th>10</th><td>B2SNc19</td></tr><tr><th>11</th><td>B2SNc20</td></tr><tr><th>12</th><td>B2SNc21</td></tr><tr><th>13</th><td>B2SNc9</td></tr><tr><th>14</th><td>B3SNc10</td></tr><tr><th>15</th><td>B3SNc12</td></tr><tr><th>16</th><td>B3SNc14</td></tr><tr><th>17</th><td>B3SNc15</td></tr><tr><th>18</th><td>B3SNc16</td></tr><tr><th>19</th><td>B3SNc17</td></tr><tr><th>20</th><td>B3SNc18</td></tr><tr><th>21</th><td>B3SNc19</td></tr><tr><th>22</th><td>B3SNc20</td></tr><tr><th>23</th><td>B3SNc21</td></tr><tr><th>24</th><td>B3SNc8</td></tr><tr><th>25</th><td>B6SNc10</td></tr><tr><th>26</th><td>B6SNc11</td></tr><tr><th>27</th><td>B6SNc12</td></tr><tr><th>28</th><td>B6SNc13</td></tr><tr><th>29</th><td>B6SNc7</td></tr><tr><th>30</th><td>B6SNc9</td></tr><tr><th>&vellip;</th><td>&vellip;</td></tr></tbody></table>"
      ],
      "text/latex": [
       "\\begin{tabular}{r|c}\n",
       "\t& seshCodes\\\\\n",
       "\t\\hline\n",
       "\t& String\\\\\n",
       "\t\\hline\n",
       "\t1 & B1SNc13 \\\\\n",
       "\t2 & B1SNc15 \\\\\n",
       "\t3 & B1SNc18 \\\\\n",
       "\t4 & B1SNc19 \\\\\n",
       "\t5 & B1SNc20 \\\\\n",
       "\t6 & B2SNc11 \\\\\n",
       "\t7 & B2SNc15 \\\\\n",
       "\t8 & B2SNc17 \\\\\n",
       "\t9 & B2SNc18 \\\\\n",
       "\t10 & B2SNc19 \\\\\n",
       "\t11 & B2SNc20 \\\\\n",
       "\t12 & B2SNc21 \\\\\n",
       "\t13 & B2SNc9 \\\\\n",
       "\t14 & B3SNc10 \\\\\n",
       "\t15 & B3SNc12 \\\\\n",
       "\t16 & B3SNc14 \\\\\n",
       "\t17 & B3SNc15 \\\\\n",
       "\t18 & B3SNc16 \\\\\n",
       "\t19 & B3SNc17 \\\\\n",
       "\t20 & B3SNc18 \\\\\n",
       "\t21 & B3SNc19 \\\\\n",
       "\t22 & B3SNc20 \\\\\n",
       "\t23 & B3SNc21 \\\\\n",
       "\t24 & B3SNc8 \\\\\n",
       "\t25 & B6SNc10 \\\\\n",
       "\t26 & B6SNc11 \\\\\n",
       "\t27 & B6SNc12 \\\\\n",
       "\t28 & B6SNc13 \\\\\n",
       "\t29 & B6SNc7 \\\\\n",
       "\t30 & B6SNc9 \\\\\n",
       "\t$\\dots$ & $\\dots$ \\\\\n",
       "\\end{tabular}\n"
      ],
      "text/plain": [
       "98×1 DataFrame\n",
       "│ Row │ seshCodes │\n",
       "│     │ \u001b[90mString\u001b[39m    │\n",
       "├─────┼───────────┤\n",
       "│ 1   │ B1SNc13   │\n",
       "│ 2   │ B1SNc15   │\n",
       "│ 3   │ B1SNc18   │\n",
       "│ 4   │ B1SNc19   │\n",
       "│ 5   │ B1SNc20   │\n",
       "│ 6   │ B2SNc11   │\n",
       "│ 7   │ B2SNc15   │\n",
       "│ 8   │ B2SNc17   │\n",
       "│ 9   │ B2SNc18   │\n",
       "│ 10  │ B2SNc19   │\n",
       "⋮\n",
       "│ 88  │ h6SNc21   │\n",
       "│ 89  │ h6SNc5    │\n",
       "│ 90  │ h6SNc61   │\n",
       "│ 91  │ h6SNc71   │\n",
       "│ 92  │ h6SNc8    │\n",
       "│ 93  │ h7SNc10   │\n",
       "│ 94  │ h7SNc11   │\n",
       "│ 95  │ h7SNc12   │\n",
       "│ 96  │ h7SNc13   │\n",
       "│ 97  │ h7SNc8    │\n",
       "│ 98  │ h7SNc9    │"
      ]
     },
     "execution_count": 140,
     "metadata": {},
     "output_type": "execute_result"
    }
   ],
   "source": [
    "seshcodes = CSV.read(\"/Users/lilis/Dropbox (MIT)/1 ASSAD LAB/Papers/1 DA and Timing/April 2020/eLife/Revision/3-4-21 Full DA Hx and Hazard COPY/COMPOSITE98_haz_seshCodes.csv\")"
   ]
  },
  {
   "cell_type": "code",
   "execution_count": 141,
   "metadata": {},
   "outputs": [
    {
     "data": {
      "text/plain": [
       "98-element CSV.Column{String,String}:\n",
       " \"B1SNc13\"\n",
       " \"B1SNc15\"\n",
       " \"B1SNc18\"\n",
       " \"B1SNc19\"\n",
       " \"B1SNc20\"\n",
       " \"B2SNc11\"\n",
       " \"B2SNc15\"\n",
       " \"B2SNc17\"\n",
       " \"B2SNc18\"\n",
       " \"B2SNc19\"\n",
       " \"B2SNc20\"\n",
       " \"B2SNc21\"\n",
       " \"B2SNc9\"\n",
       " ⋮\n",
       " \"h6SNc20\"\n",
       " \"h6SNc21\"\n",
       " \"h6SNc5\"\n",
       " \"h6SNc61\"\n",
       " \"h6SNc71\"\n",
       " \"h6SNc8\"\n",
       " \"h7SNc10\"\n",
       " \"h7SNc11\"\n",
       " \"h7SNc12\"\n",
       " \"h7SNc13\"\n",
       " \"h7SNc8\"\n",
       " \"h7SNc9\""
      ]
     },
     "execution_count": 141,
     "metadata": {},
     "output_type": "execute_result"
    }
   ],
   "source": [
    "s = seshcodes.seshCodes"
   ]
  },
  {
   "cell_type": "code",
   "execution_count": 142,
   "metadata": {},
   "outputs": [
    {
     "data": {
      "text/plain": [
       "5-element Array{Int64,1}:\n",
       " 1\n",
       " 2\n",
       " 3\n",
       " 4\n",
       " 5"
      ]
     },
     "execution_count": 142,
     "metadata": {},
     "output_type": "execute_result"
    }
   ],
   "source": [
    "findall( x -> occursin(\"B1\", x), s)"
   ]
  },
  {
   "cell_type": "markdown",
   "metadata": {},
   "source": [
    "# Ok, we actually will just combine all the sesh from each mouse and then plot those"
   ]
  },
  {
   "cell_type": "code",
   "execution_count": 148,
   "metadata": {},
   "outputs": [
    {
     "data": {
      "text/plain": [
       "plot_haz_by_animal (generic function with 1 method)"
      ]
     },
     "execution_count": 148,
     "metadata": {},
     "output_type": "execute_result"
    }
   ],
   "source": [
    "function plot_haz_by_animal(hazs, seshcodes)\n",
    "    names = [\"B1\", \"B2\", \"B3\", \"b5\", \"B6\", \"H3\", \"H4\", \"H5\", \"h6\", \"h7\", \"H14\", \"H15\"]\n",
    "    figure(figsize=(5,3))\n",
    "    plot(1:14,nanmean_mat(hazs, 1)[1:14],\"r-\", linewidth=2, label=\"mean\")\n",
    "    yy = gca().get_ylim()\n",
    "    for name in names\n",
    "        # find all the haz from this animal\n",
    "        ix = findall( x -> occursin(name, x), seshcodes)\n",
    "        haz_thismouse = hazs[ix, :]\n",
    "        plot(nanmean_mat(haz_thismouse, 1), label=name)\n",
    "    end\n",
    "    legend()\n",
    "    ylim(yy)\n",
    "        \n",
    "\n",
    "\n",
    "\n",
    "end"
   ]
  },
  {
   "cell_type": "code",
   "execution_count": 149,
   "metadata": {},
   "outputs": [
    {
     "data": {
      "image/png": "[encoded data removed]",
      "text/plain": [
       "Figure(PyObject <Figure size 500x300 with 1 Axes>)"
      ]
     },
     "metadata": {},
     "output_type": "display_data"
    },
    {
     "data": {
      "text/plain": [
       "(0.0021681912183382605, 0.002346022326908675)"
      ]
     },
     "execution_count": 149,
     "metadata": {},
     "output_type": "execute_result"
    }
   ],
   "source": [
    "plot_haz_by_animal(hazs, s)"
   ]
  },
  {
   "cell_type": "code",
   "execution_count": 150,
   "metadata": {},
   "outputs": [
    {
     "data": {
      "text/plain": [
       "3-element Array{Int64,1}:\n",
       " 1\n",
       " 2\n",
       " 3"
      ]
     },
     "execution_count": 150,
     "metadata": {},
     "output_type": "execute_result"
    }
   ],
   "source": [
    "a = [1,2,3]"
   ]
  },
  {
   "cell_type": "code",
   "execution_count": 154,
   "metadata": {},
   "outputs": [
    {
     "data": {
      "text/plain": [
       "false"
      ]
     },
     "execution_count": 154,
     "metadata": {},
     "output_type": "execute_result"
    }
   ],
   "source": [
    "5 in a"
   ]
  },
  {
   "cell_type": "code",
   "execution_count": 155,
   "metadata": {},
   "outputs": [
    {
     "data": {
      "text/plain": [
       "3×4 Array{Float64,2}:\n",
       " 1.0  1.0  1.0  1.0\n",
       " 1.0  1.0  1.0  1.0\n",
       " 1.0  1.0  1.0  1.0"
      ]
     },
     "execution_count": 155,
     "metadata": {},
     "output_type": "execute_result"
    }
   ],
   "source": [
    "test = ones(3,4)"
   ]
  },
  {
   "cell_type": "code",
   "execution_count": 156,
   "metadata": {},
   "outputs": [],
   "source": [
    "file = matopen(\"test.mat\", \"w\")\n",
    "write(file, \"test\", test)\n",
    "close(file)"
   ]
  },
  {
   "cell_type": "code",
   "execution_count": 157,
   "metadata": {},
   "outputs": [
    {
     "data": {
      "text/plain": [
       "\"/Users/lilis/Documents/GitHub/HSOManalysisPackages/JuliaLanguage_Hierarchical_Models\""
      ]
     },
     "execution_count": 157,
     "metadata": {},
     "output_type": "execute_result"
    }
   ],
   "source": [
    "pwd()"
   ]
  },
  {
   "cell_type": "code",
   "execution_count": 161,
   "metadata": {},
   "outputs": [],
   "source": [
    "writeMATLAB(test,\"test2\")"
   ]
  },
  {
   "cell_type": "code",
   "execution_count": null,
   "metadata": {},
   "outputs": [],
   "source": []
  }
 ],
 "metadata": {
  "kernelspec": {
   "display_name": "Julia 1.5.3",
   "language": "julia",
   "name": "julia-1.5"
  },
  "language_info": {
   "file_extension": ".jl",
   "mimetype": "application/julia",
   "name": "julia",
   "version": "1.5.3"
  }
 },
 "nbformat": 4,
 "nbformat_minor": 2
}
